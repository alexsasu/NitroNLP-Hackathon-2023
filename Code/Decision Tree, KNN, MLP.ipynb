{
  "cells": [
    {
      "cell_type": "markdown",
      "source": [
        "## Seed:"
      ],
      "metadata": {
        "id": "uC3fSNIwy178"
      },
      "id": "uC3fSNIwy178"
    },
    {
      "cell_type": "code",
      "source": [
        "seed = 48 # TODO: replace this with the random seed of your team!\n",
        "\n",
        "# Note that this should be the general syntax and serves as a guidance,\n",
        "# errors might appear because of the versions that these packages use\n",
        "\n",
        "import numpy as np\n",
        "np.random.seed(seed)\n",
        "np.random.RandomState(seed)\n",
        "\n",
        "import random\n",
        "random.seed(seed)\n",
        "\n",
        "import torch\n",
        "torch.manual_seed(seed)\n",
        "torch.use_deterministic_algorithms(True)\n",
        "\n",
        "import tensorflow as tf\n",
        "tf.random.set_seed(seed)\n",
        "\n",
        "import jax\n",
        "jax.random.PRNGKey(seed)"
      ],
      "metadata": {
        "colab": {
          "base_uri": "https://localhost:8080/"
        },
        "id": "T27TPFEvy6tz",
        "outputId": "4b7109f2-0243-423e-e66e-ca82773f5916"
      },
      "id": "T27TPFEvy6tz",
      "execution_count": null,
      "outputs": [
        {
          "output_type": "stream",
          "name": "stderr",
          "text": [
            "WARNING:jax._src.xla_bridge:No GPU/TPU found, falling back to CPU. (Set TF_CPP_MIN_LOG_LEVEL=0 and rerun for more info.)\n"
          ]
        },
        {
          "output_type": "execute_result",
          "data": {
            "text/plain": [
              "Array([ 0, 48], dtype=uint32)"
            ]
          },
          "metadata": {},
          "execution_count": 1
        }
      ]
    },
    {
      "cell_type": "markdown",
      "source": [
        "## Loading and preparing the data:"
      ],
      "metadata": {
        "id": "W4jsKfXsW-Ha"
      },
      "id": "W4jsKfXsW-Ha"
    },
    {
      "cell_type": "code",
      "source": [
        "from google.colab import files\n",
        "import json\n",
        "import pandas as pd\n",
        "from sklearn.model_selection import train_test_split"
      ],
      "metadata": {
        "id": "zANBE0Q_ONjV"
      },
      "id": "zANBE0Q_ONjV",
      "execution_count": null,
      "outputs": []
    },
    {
      "cell_type": "code",
      "source": [
        "! pip install -q kaggle"
      ],
      "metadata": {
        "id": "DlGInebwW9CQ"
      },
      "id": "DlGInebwW9CQ",
      "execution_count": null,
      "outputs": []
    },
    {
      "cell_type": "code",
      "source": [
        "files.upload()"
      ],
      "metadata": {
        "colab": {
          "base_uri": "https://localhost:8080/",
          "height": 90
        },
        "id": "a6ihGD7oOTIh",
        "outputId": "787df68a-12d3-49ea-df2a-9af8cc1cbaea"
      },
      "id": "a6ihGD7oOTIh",
      "execution_count": null,
      "outputs": [
        {
          "output_type": "display_data",
          "data": {
            "text/plain": [
              "<IPython.core.display.HTML object>"
            ],
            "text/html": [
              "\n",
              "     <input type=\"file\" id=\"files-63782915-4130-443a-bad3-173c4c1b64c5\" name=\"files[]\" multiple disabled\n",
              "        style=\"border:none\" />\n",
              "     <output id=\"result-63782915-4130-443a-bad3-173c4c1b64c5\">\n",
              "      Upload widget is only available when the cell has been executed in the\n",
              "      current browser session. Please rerun this cell to enable.\n",
              "      </output>\n",
              "      <script>// Copyright 2017 Google LLC\n",
              "//\n",
              "// Licensed under the Apache License, Version 2.0 (the \"License\");\n",
              "// you may not use this file except in compliance with the License.\n",
              "// You may obtain a copy of the License at\n",
              "//\n",
              "//      http://www.apache.org/licenses/LICENSE-2.0\n",
              "//\n",
              "// Unless required by applicable law or agreed to in writing, software\n",
              "// distributed under the License is distributed on an \"AS IS\" BASIS,\n",
              "// WITHOUT WARRANTIES OR CONDITIONS OF ANY KIND, either express or implied.\n",
              "// See the License for the specific language governing permissions and\n",
              "// limitations under the License.\n",
              "\n",
              "/**\n",
              " * @fileoverview Helpers for google.colab Python module.\n",
              " */\n",
              "(function(scope) {\n",
              "function span(text, styleAttributes = {}) {\n",
              "  const element = document.createElement('span');\n",
              "  element.textContent = text;\n",
              "  for (const key of Object.keys(styleAttributes)) {\n",
              "    element.style[key] = styleAttributes[key];\n",
              "  }\n",
              "  return element;\n",
              "}\n",
              "\n",
              "// Max number of bytes which will be uploaded at a time.\n",
              "const MAX_PAYLOAD_SIZE = 100 * 1024;\n",
              "\n",
              "function _uploadFiles(inputId, outputId) {\n",
              "  const steps = uploadFilesStep(inputId, outputId);\n",
              "  const outputElement = document.getElementById(outputId);\n",
              "  // Cache steps on the outputElement to make it available for the next call\n",
              "  // to uploadFilesContinue from Python.\n",
              "  outputElement.steps = steps;\n",
              "\n",
              "  return _uploadFilesContinue(outputId);\n",
              "}\n",
              "\n",
              "// This is roughly an async generator (not supported in the browser yet),\n",
              "// where there are multiple asynchronous steps and the Python side is going\n",
              "// to poll for completion of each step.\n",
              "// This uses a Promise to block the python side on completion of each step,\n",
              "// then passes the result of the previous step as the input to the next step.\n",
              "function _uploadFilesContinue(outputId) {\n",
              "  const outputElement = document.getElementById(outputId);\n",
              "  const steps = outputElement.steps;\n",
              "\n",
              "  const next = steps.next(outputElement.lastPromiseValue);\n",
              "  return Promise.resolve(next.value.promise).then((value) => {\n",
              "    // Cache the last promise value to make it available to the next\n",
              "    // step of the generator.\n",
              "    outputElement.lastPromiseValue = value;\n",
              "    return next.value.response;\n",
              "  });\n",
              "}\n",
              "\n",
              "/**\n",
              " * Generator function which is called between each async step of the upload\n",
              " * process.\n",
              " * @param {string} inputId Element ID of the input file picker element.\n",
              " * @param {string} outputId Element ID of the output display.\n",
              " * @return {!Iterable<!Object>} Iterable of next steps.\n",
              " */\n",
              "function* uploadFilesStep(inputId, outputId) {\n",
              "  const inputElement = document.getElementById(inputId);\n",
              "  inputElement.disabled = false;\n",
              "\n",
              "  const outputElement = document.getElementById(outputId);\n",
              "  outputElement.innerHTML = '';\n",
              "\n",
              "  const pickedPromise = new Promise((resolve) => {\n",
              "    inputElement.addEventListener('change', (e) => {\n",
              "      resolve(e.target.files);\n",
              "    });\n",
              "  });\n",
              "\n",
              "  const cancel = document.createElement('button');\n",
              "  inputElement.parentElement.appendChild(cancel);\n",
              "  cancel.textContent = 'Cancel upload';\n",
              "  const cancelPromise = new Promise((resolve) => {\n",
              "    cancel.onclick = () => {\n",
              "      resolve(null);\n",
              "    };\n",
              "  });\n",
              "\n",
              "  // Wait for the user to pick the files.\n",
              "  const files = yield {\n",
              "    promise: Promise.race([pickedPromise, cancelPromise]),\n",
              "    response: {\n",
              "      action: 'starting',\n",
              "    }\n",
              "  };\n",
              "\n",
              "  cancel.remove();\n",
              "\n",
              "  // Disable the input element since further picks are not allowed.\n",
              "  inputElement.disabled = true;\n",
              "\n",
              "  if (!files) {\n",
              "    return {\n",
              "      response: {\n",
              "        action: 'complete',\n",
              "      }\n",
              "    };\n",
              "  }\n",
              "\n",
              "  for (const file of files) {\n",
              "    const li = document.createElement('li');\n",
              "    li.append(span(file.name, {fontWeight: 'bold'}));\n",
              "    li.append(span(\n",
              "        `(${file.type || 'n/a'}) - ${file.size} bytes, ` +\n",
              "        `last modified: ${\n",
              "            file.lastModifiedDate ? file.lastModifiedDate.toLocaleDateString() :\n",
              "                                    'n/a'} - `));\n",
              "    const percent = span('0% done');\n",
              "    li.appendChild(percent);\n",
              "\n",
              "    outputElement.appendChild(li);\n",
              "\n",
              "    const fileDataPromise = new Promise((resolve) => {\n",
              "      const reader = new FileReader();\n",
              "      reader.onload = (e) => {\n",
              "        resolve(e.target.result);\n",
              "      };\n",
              "      reader.readAsArrayBuffer(file);\n",
              "    });\n",
              "    // Wait for the data to be ready.\n",
              "    let fileData = yield {\n",
              "      promise: fileDataPromise,\n",
              "      response: {\n",
              "        action: 'continue',\n",
              "      }\n",
              "    };\n",
              "\n",
              "    // Use a chunked sending to avoid message size limits. See b/62115660.\n",
              "    let position = 0;\n",
              "    do {\n",
              "      const length = Math.min(fileData.byteLength - position, MAX_PAYLOAD_SIZE);\n",
              "      const chunk = new Uint8Array(fileData, position, length);\n",
              "      position += length;\n",
              "\n",
              "      const base64 = btoa(String.fromCharCode.apply(null, chunk));\n",
              "      yield {\n",
              "        response: {\n",
              "          action: 'append',\n",
              "          file: file.name,\n",
              "          data: base64,\n",
              "        },\n",
              "      };\n",
              "\n",
              "      let percentDone = fileData.byteLength === 0 ?\n",
              "          100 :\n",
              "          Math.round((position / fileData.byteLength) * 100);\n",
              "      percent.textContent = `${percentDone}% done`;\n",
              "\n",
              "    } while (position < fileData.byteLength);\n",
              "  }\n",
              "\n",
              "  // All done.\n",
              "  yield {\n",
              "    response: {\n",
              "      action: 'complete',\n",
              "    }\n",
              "  };\n",
              "}\n",
              "\n",
              "scope.google = scope.google || {};\n",
              "scope.google.colab = scope.google.colab || {};\n",
              "scope.google.colab._files = {\n",
              "  _uploadFiles,\n",
              "  _uploadFilesContinue,\n",
              "};\n",
              "})(self);\n",
              "</script> "
            ]
          },
          "metadata": {}
        },
        {
          "output_type": "stream",
          "name": "stdout",
          "text": [
            "Saving kaggle.json to kaggle (1).json\n"
          ]
        },
        {
          "output_type": "execute_result",
          "data": {
            "text/plain": [
              "{'kaggle.json': b'{\"username\":\"sasualexandru\",\"key\":\"fc46af8d5daef6994d84c9dcfb24a948\"}'}"
            ]
          },
          "metadata": {},
          "execution_count": 4
        }
      ]
    },
    {
      "cell_type": "code",
      "source": [
        "! mkdir ~/.kaggle"
      ],
      "metadata": {
        "id": "xQuxpoymOjy8"
      },
      "id": "xQuxpoymOjy8",
      "execution_count": null,
      "outputs": []
    },
    {
      "cell_type": "code",
      "source": [
        "! cp kaggle.json ~/.kaggle/"
      ],
      "metadata": {
        "id": "MLSKTXaeOmP_"
      },
      "id": "MLSKTXaeOmP_",
      "execution_count": null,
      "outputs": []
    },
    {
      "cell_type": "code",
      "source": [
        "! chmod 600 ~/.kaggle/kaggle.json"
      ],
      "metadata": {
        "id": "VcXydRLqOpyj"
      },
      "id": "VcXydRLqOpyj",
      "execution_count": null,
      "outputs": []
    },
    {
      "cell_type": "code",
      "source": [
        "! kaggle competitions download -c nitro-language-processing-2"
      ],
      "metadata": {
        "colab": {
          "base_uri": "https://localhost:8080/"
        },
        "id": "vDTP_Od-QWaH",
        "outputId": "43873b23-d7c5-4d52-f65d-d61d3117ee59"
      },
      "id": "vDTP_Od-QWaH",
      "execution_count": null,
      "outputs": [
        {
          "output_type": "stream",
          "name": "stdout",
          "text": [
            "Downloading nitro-language-processing-2.zip to /content\n",
            "\r  0% 0.00/2.59M [00:00<?, ?B/s]\n",
            "\r100% 2.59M/2.59M [00:00<00:00, 132MB/s]\n"
          ]
        }
      ]
    },
    {
      "cell_type": "code",
      "source": [
        "! unzip nitro-language-processing-2.zip -d nitro-language-processing-2"
      ],
      "metadata": {
        "id": "x5YHvGZYOzYA",
        "colab": {
          "base_uri": "https://localhost:8080/"
        },
        "outputId": "176ec1f6-8807-43aa-e2f7-2d119f8f73d9"
      },
      "id": "x5YHvGZYOzYA",
      "execution_count": null,
      "outputs": [
        {
          "output_type": "stream",
          "name": "stdout",
          "text": [
            "Archive:  nitro-language-processing-2.zip\n",
            "  inflating: nitro-language-processing-2/random_seed_setter.py  \n",
            "  inflating: nitro-language-processing-2/random_seeds.csv  \n",
            "  inflating: nitro-language-processing-2/sample_submission.csv  \n",
            "  inflating: nitro-language-processing-2/test_data.csv  \n",
            "  inflating: nitro-language-processing-2/train_data.csv  \n"
          ]
        }
      ]
    },
    {
      "cell_type": "code",
      "source": [
        "train_file_content = pd.read_csv('/content/nitro-language-processing-2/train_data.csv')"
      ],
      "metadata": {
        "id": "5yl-FaVlaYp1"
      },
      "id": "5yl-FaVlaYp1",
      "execution_count": null,
      "outputs": []
    },
    {
      "cell_type": "code",
      "source": [
        "test_file_content = pd.read_csv('/content/nitro-language-processing-2/test_data.csv')"
      ],
      "metadata": {
        "id": "PjwQGWFgaeQY"
      },
      "id": "PjwQGWFgaeQY",
      "execution_count": null,
      "outputs": []
    },
    {
      "cell_type": "code",
      "source": [
        "# train_data, val_data = train_test_split(train_file_content, test_size=0.2, shuffle=True, random_state=seed)\n",
        "train_data = train_file_content\n",
        "test_data = test_file_content\n",
        "\n",
        "# train_frac = 0.5\n",
        "# train_data = train_data.sample(frac=train_frac, random_state=42)"
      ],
      "metadata": {
        "id": "VdWDaWX8ajlo"
      },
      "id": "VdWDaWX8ajlo",
      "execution_count": null,
      "outputs": []
    },
    {
      "cell_type": "code",
      "source": [
        "final_label_types = [\"direct\", \"descriptive\", \"reporting\", \"offensive\", \"non-offensive\"]\n",
        "\n",
        "texts = list(train_data[\"Text\"])\n",
        "# texts.pop(2473)\n",
        "final_labels = list(train_data[\"Final Labels\"])\n",
        "# final_labels.pop(2473)\n",
        "\n",
        "print(len(texts))\n",
        "\n",
        "texts_without_noise = []\n",
        "final_labels_for_non_noisy_texts = []\n",
        "for i, text in enumerate(texts):\n",
        "  if \"keyword\" not in text:\n",
        "    texts_without_noise.append(text)\n",
        "    final_labels_for_non_noisy_texts.append(final_labels[i])\n",
        "\n",
        "texts = texts_without_noise\n",
        "final_labels = final_labels_for_non_noisy_texts\n",
        "\n",
        "print(len(texts))\n",
        "print(len(final_labels))\n",
        "\n",
        "test_texts = list(test_data[\"Text\"])"
      ],
      "metadata": {
        "id": "Dedtjvmb7ryq",
        "colab": {
          "base_uri": "https://localhost:8080/"
        },
        "outputId": "e118e4bc-bc96-4009-d122-90a29baf0acf"
      },
      "id": "Dedtjvmb7ryq",
      "execution_count": null,
      "outputs": [
        {
          "output_type": "stream",
          "name": "stdout",
          "text": [
            "39008\n",
            "38996\n",
            "38996\n"
          ]
        }
      ]
    },
    {
      "cell_type": "markdown",
      "source": [
        "## Preprocessing, tokenizing, BoW:"
      ],
      "metadata": {
        "id": "sDn4G-iaW38F"
      },
      "id": "sDn4G-iaW38F"
    },
    {
      "cell_type": "code",
      "source": [
        "def convert_to_lowercase(text):\n",
        "  text = text.lower()\n",
        "  \n",
        "  return text"
      ],
      "metadata": {
        "id": "LSl6ZE9UsTrw"
      },
      "id": "LSl6ZE9UsTrw",
      "execution_count": null,
      "outputs": []
    },
    {
      "cell_type": "code",
      "source": [
        "import string\n",
        "\n",
        "def remove_punctuation(text):\n",
        "  text = text.translate(str.maketrans('', '', string.punctuation))\n",
        "\n",
        "  return text"
      ],
      "metadata": {
        "id": "jVPZNlLcW4nP"
      },
      "id": "jVPZNlLcW4nP",
      "execution_count": null,
      "outputs": []
    },
    {
      "cell_type": "code",
      "source": [
        "import re\n",
        "\n",
        "def remove_links_and_references(text):\n",
        "  text_without_links = re.sub(r'http\\S+', '', text)\n",
        "  text_without_links = re.sub(r'www\\S+', '', text_without_links)\n",
        "  text_without_mentions = re.sub(r'@[a-zA-Z0-9_]+','', text_without_links)\n",
        "  text_without_hashtags = re.sub(r'#[a-zA-Z0-9_]+','', text_without_mentions)\n",
        "\n",
        "  return text_without_hashtags"
      ],
      "metadata": {
        "id": "T0ro4mmEOW8_"
      },
      "id": "T0ro4mmEOW8_",
      "execution_count": null,
      "outputs": []
    },
    {
      "cell_type": "code",
      "source": [
        "emoji_pattern = re.compile(\"[\"\n",
        "        u\"\\U0001F600-\\U0001F64F\"  # emoticons\n",
        "        u\"\\U0001F300-\\U0001F5FF\"  # symbols & pictographs\n",
        "        u\"\\U0001F680-\\U0001F6FF\"  # transport & map symbols\n",
        "        u\"\\U0001F1E0-\\U0001F1FF\"  # flags (iOS)\n",
        "                          \"]+\", flags=re.UNICODE)\n",
        "\n",
        "def remove_emojis(text):\n",
        "  text = emoji_pattern.sub(r'', text)\n",
        "\n",
        "  return text"
      ],
      "metadata": {
        "id": "AcpQzjwrMBLS"
      },
      "id": "AcpQzjwrMBLS",
      "execution_count": null,
      "outputs": []
    },
    {
      "cell_type": "code",
      "source": [
        "import nltk\n",
        "\n",
        "nltk.download('stopwords')\n",
        "\n",
        "from nltk.corpus import stopwords\n",
        "\n",
        "stop_words_nltk = set(stopwords.words('romanian'))\n",
        "\n",
        "def remove_stop_words(text):\n",
        "  preprocessed_text = []\n",
        "\n",
        "  for word in text:\n",
        "    if word not in stop_words_nltk:\n",
        "      preprocessed_text.append(word)\n",
        "\n",
        "  return preprocessed_text"
      ],
      "metadata": {
        "colab": {
          "base_uri": "https://localhost:8080/"
        },
        "id": "hEplnQ_xcija",
        "outputId": "de4a43a8-f473-42f8-d47c-5caa2cfdab2f"
      },
      "id": "hEplnQ_xcija",
      "execution_count": null,
      "outputs": [
        {
          "output_type": "stream",
          "name": "stderr",
          "text": [
            "[nltk_data] Downloading package stopwords to /root/nltk_data...\n",
            "[nltk_data]   Package stopwords is already up-to-date!\n"
          ]
        }
      ]
    },
    {
      "cell_type": "code",
      "source": [
        "from nltk.stem.snowball import SnowballStemmer\n",
        "\n",
        "stemmer = SnowballStemmer(language='romanian')\n",
        "\n",
        "def apply_stemming(text):\n",
        "  text_stemmed = []\n",
        "\n",
        "  for word in text:\n",
        "    text_stemmed.append(stemmer.stem(word))\n",
        "\n",
        "  return text_stemmed"
      ],
      "metadata": {
        "id": "X3EOO9wcviEp"
      },
      "id": "X3EOO9wcviEp",
      "execution_count": null,
      "outputs": []
    },
    {
      "cell_type": "code",
      "source": [
        "%%capture\n",
        "! python -m spacy download ro_core_news_sm\n",
        "\n",
        "import spacy\n",
        "\n",
        "nlp = spacy.load(\"ro_core_news_sm\")\n",
        "\n",
        "def apply_lemmatizing(text):\n",
        "  preprocessed_text = []\n",
        "\n",
        "  tokenized_text = nlp(\" \".join(text))\n",
        "  for token in tokenized_text:\n",
        "    preprocessed_text.append(token.lemma_)\n",
        "  \n",
        "  return preprocessed_text"
      ],
      "metadata": {
        "id": "3Es4aXUyIu0Z"
      },
      "id": "3Es4aXUyIu0Z",
      "execution_count": null,
      "outputs": []
    },
    {
      "cell_type": "code",
      "source": [
        "def preprocess(text):\n",
        "  text = convert_to_lowercase(text)\n",
        "  text = remove_punctuation(text)\n",
        "  text = remove_links_and_references(text)\n",
        "  text = remove_emojis(text)\n",
        "\n",
        "  return text"
      ],
      "metadata": {
        "id": "Vd3Lq-0b9zuU"
      },
      "id": "Vd3Lq-0b9zuU",
      "execution_count": null,
      "outputs": []
    },
    {
      "cell_type": "code",
      "source": [
        "def tokenize(text):\n",
        "  text = text.split()\n",
        "  text = remove_stop_words(text)\n",
        "  text = apply_stemming(text)\n",
        "  \n",
        "  return text"
      ],
      "metadata": {
        "id": "j7jk98Jc-ldc"
      },
      "id": "j7jk98Jc-ldc",
      "execution_count": null,
      "outputs": []
    },
    {
      "cell_type": "code",
      "source": [
        "from sklearn import preprocessing\n",
        "from sklearn.feature_extraction.text import CountVectorizer, TfidfVectorizer\n",
        "from sklearn.model_selection import train_test_split"
      ],
      "metadata": {
        "id": "MzIlTy5zBDjf"
      },
      "id": "MzIlTy5zBDjf",
      "execution_count": null,
      "outputs": []
    },
    {
      "cell_type": "code",
      "source": [
        "labels = []\n",
        "for final_label in final_labels:\n",
        "  if final_label == final_label_types[0]:\n",
        "    labels.append(0)\n",
        "  elif final_label == final_label_types[1]:\n",
        "    labels.append(1)\n",
        "  elif final_label == final_label_types[2]:\n",
        "    labels.append(2)\n",
        "  elif final_label == final_label_types[3]:\n",
        "    labels.append(3)\n",
        "  elif final_label == final_label_types[4]:\n",
        "    labels.append(4)"
      ],
      "metadata": {
        "id": "KrW6H1mM8sRi"
      },
      "id": "KrW6H1mM8sRi",
      "execution_count": null,
      "outputs": []
    },
    {
      "cell_type": "code",
      "source": [
        "print(len(texts))\n",
        "print(len(labels))"
      ],
      "metadata": {
        "colab": {
          "base_uri": "https://localhost:8080/"
        },
        "id": "yHL-5kqHFzzf",
        "outputId": "34d0fb7e-e3e4-44ca-ebd5-97d7ceb80b48"
      },
      "id": "yHL-5kqHFzzf",
      "execution_count": null,
      "outputs": [
        {
          "output_type": "stream",
          "name": "stdout",
          "text": [
            "38996\n",
            "38996\n"
          ]
        }
      ]
    },
    {
      "cell_type": "code",
      "source": [
        "cv_1 = CountVectorizer(\n",
        "    preprocessor=preprocess,\n",
        "    tokenizer=tokenize,\n",
        "    token_pattern=None,\n",
        "    max_features=1000,  # daca max_features=None, obtinem 30095 features. Dupa ce am inspectat frecventa de aparitie ale tuturor cuvintelor (30095 features), am ales sa selectez doar 1500 din cele mai frecvente cuvinte\n",
        "    binary=False,\n",
        ")\n",
        "\n",
        "cv_1.fit(texts)\n",
        "\n",
        "# calculeaza reprezentarile textelor (feature vectors)\n",
        "features_1 = cv_1.transform(texts)\n",
        "print(features_1.shape)\n",
        "print(type(features_1))\n",
        "print(features_1.toarray())  # convertim la numpy array\n",
        "\n",
        "train_data_1, test_data_1, train_labels_1, test_labels_1 = train_test_split(features_1.toarray(), labels, test_size=0.2, random_state=seed)\n",
        "\n",
        "# clasa folosita pentru normalizare\n",
        "scaler_1 = preprocessing.Normalizer(norm='l2') \n",
        "\n",
        "scaler_1.fit(train_data_1)\n",
        "\n",
        "# scalam vectorii de train\n",
        "train_data_1 = scaler_1.transform(train_data_1)\n",
        "print(train_data_1)\n",
        "\n",
        "# scalam vectorii de test\n",
        "test_data_1 = scaler_1.transform(test_data_1)\n",
        "print(test_data_1)"
      ],
      "metadata": {
        "id": "XXqOCemGJqh9",
        "colab": {
          "base_uri": "https://localhost:8080/"
        },
        "outputId": "ce9335e5-bd30-4b2a-af96-801a540f784d"
      },
      "id": "XXqOCemGJqh9",
      "execution_count": null,
      "outputs": [
        {
          "output_type": "stream",
          "name": "stdout",
          "text": [
            "(38996, 1000)\n",
            "<class 'scipy.sparse._csr.csr_matrix'>\n",
            "[[0 0 0 ... 0 0 0]\n",
            " [0 0 0 ... 0 0 0]\n",
            " [0 0 0 ... 0 0 0]\n",
            " ...\n",
            " [0 0 0 ... 0 0 0]\n",
            " [0 0 0 ... 0 0 0]\n",
            " [0 0 0 ... 0 0 0]]\n",
            "[[0. 0. 0. ... 0. 0. 0.]\n",
            " [0. 0. 0. ... 0. 0. 0.]\n",
            " [0. 0. 0. ... 0. 0. 0.]\n",
            " ...\n",
            " [0. 0. 0. ... 0. 0. 0.]\n",
            " [0. 0. 0. ... 0. 0. 0.]\n",
            " [0. 0. 0. ... 0. 0. 0.]]\n",
            "[[0.         0.         0.         ... 0.         0.         0.        ]\n",
            " [0.         0.         0.         ... 0.         0.         0.        ]\n",
            " [0.         0.         0.         ... 0.         0.         0.        ]\n",
            " ...\n",
            " [0.35355339 0.         0.         ... 0.         0.         0.        ]\n",
            " [0.         0.         0.         ... 0.         0.         0.        ]\n",
            " [0.         0.         0.         ... 0.         0.         0.        ]]\n"
          ]
        }
      ]
    },
    {
      "cell_type": "code",
      "source": [
        "print(sorted(np.sum(features_1.toarray(), axis=0), reverse=True))"
      ],
      "metadata": {
        "colab": {
          "base_uri": "https://localhost:8080/"
        },
        "id": "8jkMs58RCGn6",
        "outputId": "f27f0094-8134-4db9-f4da-c0e0b1c7699c"
      },
      "id": "8jkMs58RCGn6",
      "execution_count": null,
      "outputs": [
        {
          "output_type": "stream",
          "name": "stdout",
          "text": [
            "[9131, 3823, 2811, 2387, 1951, 1823, 1814, 1720, 1701, 1603, 1502, 1411, 1285, 1262, 1216, 1183, 1147, 1137, 1083, 1080, 996, 995, 994, 979, 951, 912, 909, 906, 897, 889, 870, 851, 844, 828, 818, 809, 756, 741, 739, 736, 728, 718, 705, 673, 671, 668, 660, 656, 641, 588, 586, 586, 584, 575, 573, 564, 560, 556, 553, 548, 541, 531, 528, 524, 523, 520, 517, 517, 515, 510, 509, 505, 501, 497, 495, 488, 486, 482, 481, 481, 474, 474, 473, 471, 469, 462, 459, 453, 453, 447, 444, 443, 442, 433, 433, 432, 432, 416, 414, 414, 411, 408, 407, 398, 397, 397, 395, 395, 392, 390, 389, 387, 383, 383, 378, 374, 374, 370, 368, 367, 367, 365, 365, 359, 359, 359, 357, 353, 351, 350, 349, 346, 345, 341, 336, 336, 333, 332, 330, 330, 328, 325, 323, 320, 318, 318, 316, 315, 315, 314, 313, 312, 309, 309, 309, 308, 307, 307, 303, 303, 302, 300, 299, 296, 295, 293, 293, 292, 291, 291, 289, 289, 286, 286, 285, 284, 284, 284, 284, 282, 282, 280, 277, 276, 276, 276, 274, 273, 272, 271, 271, 269, 267, 267, 263, 263, 262, 260, 260, 258, 256, 253, 252, 252, 251, 251, 249, 249, 248, 248, 247, 247, 247, 247, 246, 246, 245, 245, 245, 245, 244, 244, 244, 244, 240, 240, 240, 239, 238, 238, 237, 236, 233, 230, 230, 229, 229, 228, 227, 226, 226, 226, 225, 225, 224, 224, 224, 224, 224, 223, 223, 222, 221, 220, 220, 220, 219, 219, 218, 218, 217, 217, 217, 217, 217, 216, 216, 216, 215, 214, 214, 213, 212, 212, 211, 211, 211, 210, 210, 209, 208, 207, 207, 205, 205, 204, 204, 204, 204, 203, 202, 202, 201, 200, 200, 199, 198, 198, 197, 196, 195, 195, 195, 194, 194, 193, 193, 193, 192, 192, 191, 191, 191, 189, 189, 188, 188, 187, 187, 187, 186, 186, 185, 185, 185, 184, 184, 183, 183, 182, 182, 182, 182, 182, 181, 181, 181, 181, 181, 181, 180, 180, 180, 179, 179, 179, 179, 179, 179, 179, 178, 178, 177, 177, 175, 175, 174, 174, 173, 173, 173, 173, 173, 172, 172, 172, 172, 171, 171, 171, 170, 170, 170, 169, 169, 169, 169, 169, 169, 169, 169, 168, 168, 168, 167, 167, 167, 166, 166, 165, 165, 165, 164, 164, 164, 163, 163, 163, 163, 162, 162, 162, 162, 162, 162, 161, 160, 160, 159, 159, 159, 159, 159, 159, 159, 159, 158, 158, 158, 158, 157, 157, 157, 156, 156, 156, 156, 156, 155, 155, 155, 155, 155, 154, 154, 153, 153, 153, 153, 153, 152, 152, 152, 152, 152, 151, 151, 151, 151, 150, 149, 149, 149, 149, 148, 147, 147, 147, 147, 147, 147, 146, 146, 146, 145, 145, 144, 144, 144, 144, 144, 144, 144, 143, 143, 142, 142, 142, 142, 141, 141, 141, 140, 140, 139, 139, 139, 139, 139, 139, 139, 138, 138, 138, 138, 138, 138, 137, 137, 137, 136, 136, 136, 136, 136, 136, 135, 134, 134, 133, 133, 133, 133, 133, 133, 133, 132, 132, 131, 131, 131, 131, 131, 130, 130, 129, 129, 129, 128, 128, 128, 128, 128, 128, 128, 127, 127, 127, 127, 127, 127, 127, 126, 126, 126, 125, 125, 125, 125, 124, 124, 124, 122, 122, 122, 122, 122, 121, 121, 121, 120, 120, 120, 119, 119, 119, 119, 119, 119, 119, 118, 118, 118, 118, 118, 118, 117, 117, 117, 117, 117, 116, 116, 116, 116, 116, 115, 115, 115, 115, 115, 115, 115, 114, 114, 114, 114, 114, 114, 113, 113, 113, 113, 113, 112, 112, 112, 112, 112, 112, 112, 111, 111, 111, 111, 111, 111, 111, 111, 110, 110, 110, 110, 110, 110, 109, 109, 109, 109, 109, 108, 108, 108, 108, 108, 108, 108, 108, 107, 107, 107, 107, 107, 107, 106, 106, 106, 106, 106, 106, 106, 106, 106, 106, 105, 105, 105, 105, 105, 105, 105, 105, 105, 104, 104, 104, 104, 103, 103, 103, 103, 103, 103, 102, 102, 102, 102, 102, 102, 102, 102, 102, 102, 102, 102, 101, 101, 101, 101, 101, 101, 101, 101, 101, 100, 100, 100, 100, 99, 99, 99, 99, 99, 99, 98, 98, 98, 98, 98, 98, 98, 98, 97, 97, 97, 97, 97, 97, 97, 97, 97, 97, 97, 96, 96, 96, 96, 96, 96, 96, 95, 95, 95, 95, 95, 95, 95, 94, 94, 94, 94, 94, 94, 94, 94, 94, 94, 93, 93, 93, 93, 93, 93, 93, 93, 93, 92, 92, 92, 92, 92, 92, 92, 92, 92, 91, 91, 91, 91, 91, 91, 91, 91, 91, 91, 91, 91, 91, 90, 90, 90, 90, 90, 90, 90, 90, 90, 90, 90, 90, 89, 89, 89, 89, 89, 89, 89, 89, 89, 89, 89, 89, 88, 88, 88, 88, 88, 88, 87, 87, 87, 87, 87, 87, 87, 87, 87, 87, 86, 86, 86, 86, 86, 86, 86, 86, 86, 85, 85, 85, 85, 85, 85, 85, 85, 85, 84, 84, 84, 84, 84, 84, 84, 84, 84, 84, 84, 83, 83, 83, 83, 83, 83, 83, 83, 83, 83, 83, 83, 83, 82, 82, 82, 82, 82, 82, 82, 82, 82, 82, 82, 82, 82, 81, 81, 81, 81, 81, 81, 81, 81, 81, 81, 81, 81, 81, 81, 81, 81, 81, 81, 81, 80, 80, 80, 80, 80, 80, 80, 80, 80, 80, 79, 79, 79, 79, 79, 79, 79, 79, 79, 79, 79, 78, 78, 78, 78, 78, 78, 78, 78, 78, 78, 77, 77, 77, 77, 77, 77, 77, 77, 77, 77, 77, 77, 76, 76, 76, 76, 76, 76, 76, 76, 76, 76, 76, 76, 76, 75, 75, 75, 75, 75, 75, 75, 75, 75, 75, 75, 75, 75, 75, 75, 75, 75, 75, 75, 74, 74, 74, 74, 74, 74, 74, 74, 74, 74, 74, 73, 73, 73, 73, 73, 73, 73, 73, 73, 73, 73, 73, 73, 73, 72, 72, 72, 72, 72, 72, 72, 72]\n"
          ]
        }
      ]
    },
    {
      "cell_type": "code",
      "source": [
        "print(len(np.sum(features_1.toarray(), axis=0)))"
      ],
      "metadata": {
        "colab": {
          "base_uri": "https://localhost:8080/"
        },
        "id": "fL78i--eD28j",
        "outputId": "35c74d2c-fcf9-4a11-e641-63f4b9178deb"
      },
      "id": "fL78i--eD28j",
      "execution_count": null,
      "outputs": [
        {
          "output_type": "stream",
          "name": "stdout",
          "text": [
            "1000\n"
          ]
        }
      ]
    },
    {
      "cell_type": "code",
      "source": [
        "test_data_true = cv_1.transform(test_texts)\n",
        "print(test_data_true.shape)\n",
        "print(type(test_data_true))\n",
        "print(test_data_true.toarray())  # convertim la numpy array\n",
        "\n",
        "test_data_true = scaler_1.transform(test_data_true)"
      ],
      "metadata": {
        "colab": {
          "base_uri": "https://localhost:8080/"
        },
        "id": "lO1GTqvn3t-p",
        "outputId": "9e82e52e-4c96-4a63-8049-7695baf73290"
      },
      "id": "lO1GTqvn3t-p",
      "execution_count": null,
      "outputs": [
        {
          "output_type": "stream",
          "name": "stdout",
          "text": [
            "(3130, 1000)\n",
            "<class 'scipy.sparse._csr.csr_matrix'>\n",
            "[[0 0 0 ... 0 0 0]\n",
            " [0 0 0 ... 0 0 0]\n",
            " [0 0 0 ... 0 0 0]\n",
            " ...\n",
            " [0 0 0 ... 0 0 0]\n",
            " [0 0 0 ... 0 0 0]\n",
            " [0 0 0 ... 0 0 0]]\n"
          ]
        }
      ]
    },
    {
      "cell_type": "code",
      "source": [
        "cv_1 = TfidfVectorizer(\n",
        "    preprocessor=preprocess_1_2_3,\n",
        "    tokenizer=tokenize_1,\n",
        "    token_pattern=None,\n",
        "    max_features=1000,  # daca max_features=None, obtinem 30095 features. Dupa ce am inspectat frecventa de aparitie ale tuturor cuvintelor (30095 features), am ales sa selectez doar 1500 din cele mai frecvente cuvinte\n",
        "    binary=False,\n",
        ")\n",
        "\n",
        "cv_1.fit(texts)\n",
        "\n",
        "# calculeaza reprezentarile textelor (feature vectors)\n",
        "features_1 = cv_1.transform(texts)\n",
        "print(features_1.shape)\n",
        "print(type(features_1))\n",
        "print(features_1.toarray())  # convertim la numpy array\n",
        "\n",
        "train_data_1, test_data_1, train_labels_1, test_labels_1 = train_test_split(features_1.toarray(), labels, test_size=0.2, random_state=seed)\n",
        "\n",
        "print(train_data_1)\n",
        "print(test_data_1)"
      ],
      "metadata": {
        "id": "w0nTNwSa-S1Z",
        "colab": {
          "base_uri": "https://localhost:8080/"
        },
        "outputId": "39a00907-f788-42bb-fbb7-5385c3659f87"
      },
      "id": "w0nTNwSa-S1Z",
      "execution_count": null,
      "outputs": [
        {
          "output_type": "stream",
          "name": "stdout",
          "text": [
            "(39008, 1000)\n",
            "<class 'scipy.sparse._csr.csr_matrix'>\n",
            "[[0. 0. 0. ... 0. 0. 0.]\n",
            " [0. 0. 0. ... 0. 0. 0.]\n",
            " [0. 0. 0. ... 0. 0. 0.]\n",
            " ...\n",
            " [0. 0. 0. ... 0. 0. 0.]\n",
            " [0. 0. 0. ... 0. 0. 0.]\n",
            " [0. 0. 0. ... 0. 0. 0.]]\n",
            "[[0. 0. 0. ... 0. 0. 0.]\n",
            " [0. 0. 0. ... 0. 0. 0.]\n",
            " [0. 0. 0. ... 0. 0. 0.]\n",
            " ...\n",
            " [0. 0. 0. ... 0. 0. 0.]\n",
            " [0. 0. 0. ... 0. 0. 0.]\n",
            " [0. 0. 0. ... 0. 0. 0.]]\n",
            "[[0. 0. 0. ... 0. 0. 0.]\n",
            " [0. 0. 0. ... 0. 0. 0.]\n",
            " [0. 0. 0. ... 0. 0. 0.]\n",
            " ...\n",
            " [0. 0. 0. ... 0. 0. 0.]\n",
            " [0. 0. 0. ... 0. 0. 0.]\n",
            " [0. 0. 0. ... 0. 0. 0.]]\n"
          ]
        }
      ]
    },
    {
      "cell_type": "markdown",
      "source": [
        "## Training, validation, metrics:"
      ],
      "metadata": {
        "id": "xZIXzMK_W0zP"
      },
      "id": "xZIXzMK_W0zP"
    },
    {
      "cell_type": "code",
      "source": [
        "from sklearn.naive_bayes import GaussianNB"
      ],
      "metadata": {
        "id": "HCF2utRU152F"
      },
      "id": "HCF2utRU152F",
      "execution_count": null,
      "outputs": []
    },
    {
      "cell_type": "code",
      "source": [
        "clf_1 = GaussianNB()\n",
        "\n",
        "clf_1.fit(train_data_1, train_labels_1)"
      ],
      "metadata": {
        "id": "DS6YoWGxNyBN",
        "colab": {
          "base_uri": "https://localhost:8080/",
          "height": 75
        },
        "outputId": "b1807429-0c9d-4912-b9fb-43bebfd9c7bf"
      },
      "id": "DS6YoWGxNyBN",
      "execution_count": null,
      "outputs": [
        {
          "output_type": "execute_result",
          "data": {
            "text/plain": [
              "GaussianNB()"
            ],
            "text/html": [
              "<style>#sk-container-id-16 {color: black;background-color: white;}#sk-container-id-16 pre{padding: 0;}#sk-container-id-16 div.sk-toggleable {background-color: white;}#sk-container-id-16 label.sk-toggleable__label {cursor: pointer;display: block;width: 100%;margin-bottom: 0;padding: 0.3em;box-sizing: border-box;text-align: center;}#sk-container-id-16 label.sk-toggleable__label-arrow:before {content: \"▸\";float: left;margin-right: 0.25em;color: #696969;}#sk-container-id-16 label.sk-toggleable__label-arrow:hover:before {color: black;}#sk-container-id-16 div.sk-estimator:hover label.sk-toggleable__label-arrow:before {color: black;}#sk-container-id-16 div.sk-toggleable__content {max-height: 0;max-width: 0;overflow: hidden;text-align: left;background-color: #f0f8ff;}#sk-container-id-16 div.sk-toggleable__content pre {margin: 0.2em;color: black;border-radius: 0.25em;background-color: #f0f8ff;}#sk-container-id-16 input.sk-toggleable__control:checked~div.sk-toggleable__content {max-height: 200px;max-width: 100%;overflow: auto;}#sk-container-id-16 input.sk-toggleable__control:checked~label.sk-toggleable__label-arrow:before {content: \"▾\";}#sk-container-id-16 div.sk-estimator input.sk-toggleable__control:checked~label.sk-toggleable__label {background-color: #d4ebff;}#sk-container-id-16 div.sk-label input.sk-toggleable__control:checked~label.sk-toggleable__label {background-color: #d4ebff;}#sk-container-id-16 input.sk-hidden--visually {border: 0;clip: rect(1px 1px 1px 1px);clip: rect(1px, 1px, 1px, 1px);height: 1px;margin: -1px;overflow: hidden;padding: 0;position: absolute;width: 1px;}#sk-container-id-16 div.sk-estimator {font-family: monospace;background-color: #f0f8ff;border: 1px dotted black;border-radius: 0.25em;box-sizing: border-box;margin-bottom: 0.5em;}#sk-container-id-16 div.sk-estimator:hover {background-color: #d4ebff;}#sk-container-id-16 div.sk-parallel-item::after {content: \"\";width: 100%;border-bottom: 1px solid gray;flex-grow: 1;}#sk-container-id-16 div.sk-label:hover label.sk-toggleable__label {background-color: #d4ebff;}#sk-container-id-16 div.sk-serial::before {content: \"\";position: absolute;border-left: 1px solid gray;box-sizing: border-box;top: 0;bottom: 0;left: 50%;z-index: 0;}#sk-container-id-16 div.sk-serial {display: flex;flex-direction: column;align-items: center;background-color: white;padding-right: 0.2em;padding-left: 0.2em;position: relative;}#sk-container-id-16 div.sk-item {position: relative;z-index: 1;}#sk-container-id-16 div.sk-parallel {display: flex;align-items: stretch;justify-content: center;background-color: white;position: relative;}#sk-container-id-16 div.sk-item::before, #sk-container-id-16 div.sk-parallel-item::before {content: \"\";position: absolute;border-left: 1px solid gray;box-sizing: border-box;top: 0;bottom: 0;left: 50%;z-index: -1;}#sk-container-id-16 div.sk-parallel-item {display: flex;flex-direction: column;z-index: 1;position: relative;background-color: white;}#sk-container-id-16 div.sk-parallel-item:first-child::after {align-self: flex-end;width: 50%;}#sk-container-id-16 div.sk-parallel-item:last-child::after {align-self: flex-start;width: 50%;}#sk-container-id-16 div.sk-parallel-item:only-child::after {width: 0;}#sk-container-id-16 div.sk-dashed-wrapped {border: 1px dashed gray;margin: 0 0.4em 0.5em 0.4em;box-sizing: border-box;padding-bottom: 0.4em;background-color: white;}#sk-container-id-16 div.sk-label label {font-family: monospace;font-weight: bold;display: inline-block;line-height: 1.2em;}#sk-container-id-16 div.sk-label-container {text-align: center;}#sk-container-id-16 div.sk-container {/* jupyter's `normalize.less` sets `[hidden] { display: none; }` but bootstrap.min.css set `[hidden] { display: none !important; }` so we also need the `!important` here to be able to override the default hidden behavior on the sphinx rendered scikit-learn.org. See: https://github.com/scikit-learn/scikit-learn/issues/21755 */display: inline-block !important;position: relative;}#sk-container-id-16 div.sk-text-repr-fallback {display: none;}</style><div id=\"sk-container-id-16\" class=\"sk-top-container\"><div class=\"sk-text-repr-fallback\"><pre>GaussianNB()</pre><b>In a Jupyter environment, please rerun this cell to show the HTML representation or trust the notebook. <br />On GitHub, the HTML representation is unable to render, please try loading this page with nbviewer.org.</b></div><div class=\"sk-container\" hidden><div class=\"sk-item\"><div class=\"sk-estimator sk-toggleable\"><input class=\"sk-toggleable__control sk-hidden--visually\" id=\"sk-estimator-id-16\" type=\"checkbox\" checked><label for=\"sk-estimator-id-16\" class=\"sk-toggleable__label sk-toggleable__label-arrow\">GaussianNB</label><div class=\"sk-toggleable__content\"><pre>GaussianNB()</pre></div></div></div></div></div>"
            ]
          },
          "metadata": {},
          "execution_count": 430
        }
      ]
    },
    {
      "cell_type": "code",
      "source": [
        "from sklearn import metrics"
      ],
      "metadata": {
        "id": "lQY2BCHUW6m9"
      },
      "id": "lQY2BCHUW6m9",
      "execution_count": null,
      "outputs": []
    },
    {
      "cell_type": "code",
      "source": [
        "predicted_labels_1 = clf_1.predict(test_data_1)"
      ],
      "metadata": {
        "id": "QHRI8C5xXhJS"
      },
      "id": "QHRI8C5xXhJS",
      "execution_count": null,
      "outputs": []
    },
    {
      "cell_type": "code",
      "source": [
        "print(\"Accuracy:\", metrics.accuracy_score(test_labels_1, predicted_labels_1))\n",
        "print()\n",
        "print(\"Precision (micro):\", metrics.precision_score(test_labels_1, predicted_labels_1, average=\"micro\"))\n",
        "print(\"Precision (macro):\", metrics.precision_score(test_labels_1, predicted_labels_1, average=\"macro\"))\n",
        "print(\"Precision (weighted):\", metrics.precision_score(test_labels_1, predicted_labels_1, average=\"weighted\"))\n",
        "print()\n",
        "print(\"Recall (micro):\", metrics.recall_score(test_labels_1, predicted_labels_1, average=\"micro\"))\n",
        "print(\"Recall (macro):\", metrics.recall_score(test_labels_1, predicted_labels_1, average=\"macro\"))\n",
        "print(\"Recall (weighted):\", metrics.recall_score(test_labels_1, predicted_labels_1, average=\"weighted\"))\n",
        "print()\n",
        "print(\"F1 (micro):\", metrics.f1_score(test_labels_1, predicted_labels_1, average=\"micro\"))\n",
        "print(\"F1 (macro):\", metrics.f1_score(test_labels_1, predicted_labels_1, average=\"macro\"))\n",
        "print(\"F1 (weighted):\", metrics.f1_score(test_labels_1, predicted_labels_1, average=\"weighted\"))"
      ],
      "metadata": {
        "colab": {
          "base_uri": "https://localhost:8080/"
        },
        "id": "PZ9TpaNZOWAd",
        "outputId": "d5b953c9-9803-48f5-b5c3-6016ce1ffaa6"
      },
      "id": "PZ9TpaNZOWAd",
      "execution_count": null,
      "outputs": [
        {
          "output_type": "stream",
          "name": "stdout",
          "text": [
            "Accuracy: 0.19256410256410256\n",
            "\n",
            "Precision (micro): 0.19256410256410256\n",
            "Precision (macro): 0.25855570956801566\n",
            "Precision (weighted): 0.7555126507229644\n",
            "\n",
            "Recall (micro): 0.19256410256410256\n",
            "Recall (macro): 0.2659079072571127\n",
            "Recall (weighted): 0.19256410256410256\n",
            "\n",
            "F1 (micro): 0.19256410256410256\n",
            "F1 (macro): 0.15052841310412046\n",
            "F1 (weighted): 0.2650636849918749\n"
          ]
        }
      ]
    },
    {
      "cell_type": "code",
      "source": [
        "from sklearn.tree import DecisionTreeClassifier\n",
        "from sklearn.ensemble import RandomForestClassifier"
      ],
      "metadata": {
        "id": "sJ_09zVRWh80"
      },
      "id": "sJ_09zVRWh80",
      "execution_count": null,
      "outputs": []
    },
    {
      "cell_type": "code",
      "source": [
        "clf_dec_tree = DecisionTreeClassifier(max_depth=5, min_samples_split=5)\n",
        "\n",
        "clf_dec_tree.fit(train_data_1, train_labels_1)\n",
        "\n",
        "predicted_labels_dec_tree = clf_dec_tree.predict(test_data_1)"
      ],
      "metadata": {
        "id": "VLwi1Rr4W1Xg"
      },
      "id": "VLwi1Rr4W1Xg",
      "execution_count": null,
      "outputs": []
    },
    {
      "cell_type": "code",
      "source": [
        "print(predicted_labels_dec_tree[:1000])"
      ],
      "metadata": {
        "colab": {
          "base_uri": "https://localhost:8080/"
        },
        "id": "qOUqpgcq7Mvv",
        "outputId": "7c92fb57-130c-4f67-a325-645148c3d03a"
      },
      "id": "qOUqpgcq7Mvv",
      "execution_count": null,
      "outputs": [
        {
          "output_type": "stream",
          "name": "stdout",
          "text": [
            "[4 4 4 4 4 4 4 4 4 4 4 4 4 4 4 4 3 3 4 4 4 4 4 4 4 4 4 3 4 4 4 4 4 4 4 1 4\n",
            " 4 4 4 4 4 4 4 4 4 4 3 4 4 4 4 4 4 4 4 4 4 4 4 4 4 4 4 4 4 4 4 4 4 4 4 4 4\n",
            " 4 4 4 4 4 4 4 4 4 4 3 4 4 4 4 4 4 4 4 4 3 4 4 4 4 4 4 4 4 4 4 4 4 4 4 4 4\n",
            " 4 4 4 4 4 4 4 4 4 4 4 4 4 4 4 4 4 4 4 4 4 4 4 4 4 4 4 4 4 4 4 4 4 4 4 4 4\n",
            " 4 4 4 4 4 4 4 4 4 4 4 4 4 4 4 4 4 4 4 4 4 4 4 4 4 4 4 4 0 0 4 4 4 4 4 4 4\n",
            " 4 4 4 4 4 4 4 4 4 4 4 4 4 4 4 4 4 4 4 4 4 4 4 4 4 0 4 4 4 4 4 4 4 4 4 4 4\n",
            " 4 3 4 4 4 4 3 4 4 4 4 4 4 4 4 4 4 4 4 4 4 4 4 4 0 4 4 4 4 4 3 4 1 4 4 4 4\n",
            " 4 4 4 4 4 4 4 4 4 4 4 4 4 4 4 4 4 4 4 4 4 4 4 4 4 4 4 4 4 4 4 4 4 4 4 4 4\n",
            " 4 4 4 4 4 4 4 1 4 4 4 4 4 4 4 4 4 4 4 4 4 4 3 4 1 4 4 4 4 4 4 4 4 4 4 4 1\n",
            " 4 4 4 4 4 3 4 4 4 4 4 4 4 4 4 4 4 4 4 4 4 4 4 4 4 4 4 4 4 4 4 4 4 4 4 4 4\n",
            " 4 4 4 4 3 4 4 4 4 4 4 4 4 4 4 4 4 4 4 4 4 4 4 4 4 4 4 4 4 4 4 4 4 4 4 4 4\n",
            " 3 4 4 3 4 3 4 4 4 4 4 4 4 4 4 4 4 4 4 4 4 4 4 4 4 4 4 3 4 4 4 4 4 4 4 1 4\n",
            " 4 4 4 4 4 4 4 4 4 3 4 4 4 4 4 4 4 4 4 4 4 4 4 4 4 4 4 4 4 4 4 4 4 4 4 4 4\n",
            " 4 4 4 4 4 4 4 4 4 4 4 4 3 4 4 4 4 4 4 4 4 4 3 4 4 4 4 4 4 4 4 4 4 4 4 4 4\n",
            " 4 4 4 4 4 4 4 4 4 4 4 4 4 4 4 4 3 4 4 4 4 4 3 4 4 4 4 3 4 4 4 4 4 4 4 4 4\n",
            " 4 4 4 3 4 4 4 4 4 4 4 4 4 3 4 4 4 4 4 4 3 4 3 4 4 4 4 4 4 4 4 4 4 4 4 0 1\n",
            " 4 4 3 4 3 4 4 4 4 4 4 4 4 4 4 4 4 4 0 4 4 4 4 4 4 4 4 4 4 1 4 4 4 4 4 4 4\n",
            " 4 4 4 4 4 0 4 3 4 4 4 4 4 4 4 4 4 4 4 3 4 4 4 3 4 4 4 4 4 4 4 4 4 4 4 4 4\n",
            " 4 3 4 4 4 4 4 4 4 4 4 4 3 4 4 4 4 4 4 4 4 4 4 4 3 4 4 4 4 4 4 4 4 4 3 4 4\n",
            " 4 4 4 4 4 4 1 4 4 4 4 4 4 4 4 4 4 4 4 4 4 4 4 4 4 4 4 4 4 4 4 4 4 3 4 4 4\n",
            " 4 1 4 4 3 3 4 4 4 4 4 4 4 4 4 4 4 4 4 4 4 4 4 4 1 0 4 4 4 4 4 4 4 4 4 4 4\n",
            " 4 4 4 4 4 4 4 4 4 4 4 4 4 4 4 4 4 4 4 4 4 4 4 4 4 4 4 4 4 4 4 4 4 4 4 4 4\n",
            " 4 3 4 4 4 4 4 4 4 4 4 4 4 4 4 4 4 3 4 4 4 4 4 4 4 4 4 4 4 4 0 4 4 4 4 4 4\n",
            " 4 4 1 4 4 4 4 4 4 4 4 4 3 4 4 4 4 4 4 4 4 4 4 4 4 4 4 4 4 4 4 4 4 4 4 4 4\n",
            " 4 4 4 4 4 4 4 4 4 4 4 4 4 4 4 4 4 4 4 4 4 4 4 3 4 4 4 4 4 4 4 4 4 4 4 4 4\n",
            " 4 4 4 4 4 4 4 4 4 3 4 4 4 4 4 4 1 4 4 3 4 4 4 4 4 4 4 4 4 4 4 4 4 4 4 4 4\n",
            " 4 4 4 4 4 4 4 4 4 4 3 4 4 4 4 4 4 0 4 4 4 4 4 4 4 4 4 4 4 3 4 1 4 4 4 4 4\n",
            " 4]\n"
          ]
        }
      ]
    },
    {
      "cell_type": "code",
      "source": [
        "print(\"Accuracy:\")\n",
        "print(f\"Decision Tree {metrics.accuracy_score(test_labels_1, predicted_labels_dec_tree)} | GaussianNB {metrics.accuracy_score(test_labels_1, predicted_labels_1)}\")\n",
        "print()\n",
        "print(\"Precision (micro):\")\n",
        "print(f\"Decision Tree {metrics.precision_score(test_labels_1, predicted_labels_dec_tree, average='micro')} | GaussianNB {metrics.precision_score(test_labels_1, predicted_labels_1, average='micro')}\")\n",
        "print(\"Precision (macro):\")\n",
        "print(f\"Decision Tree {metrics.precision_score(test_labels_1, predicted_labels_dec_tree, average='macro')} | GaussianNB {metrics.precision_score(test_labels_1, predicted_labels_1, average='macro')}\")\n",
        "print(\"Precision (weighted):\")\n",
        "print(f\"Decision Tree {metrics.precision_score(test_labels_1, predicted_labels_dec_tree, average='weighted')} | GaussianNB {metrics.precision_score(test_labels_1, predicted_labels_1, average='weighted')}\")\n",
        "print()\n",
        "print(\"Recall (micro):\")\n",
        "print(f\"Decision Tree {metrics.recall_score(test_labels_1, predicted_labels_dec_tree, average='micro')} | GaussianNB {metrics.recall_score(test_labels_1, predicted_labels_1, average='micro')}\")\n",
        "print(\"Recall (macro):\")\n",
        "print(f\"Decision Tree {metrics.recall_score(test_labels_1, predicted_labels_dec_tree, average='macro')} | GaussianNB {metrics.recall_score(test_labels_1, predicted_labels_1, average='macro')}\")\n",
        "print(\"Recall (weighted):\")\n",
        "print(f\"Decision Tree {metrics.recall_score(test_labels_1, predicted_labels_dec_tree, average='weighted')} | GaussianNB {metrics.recall_score(test_labels_1, predicted_labels_1, average='weighted')}\")\n",
        "print()\n",
        "print(\"F1 (micro):\")\n",
        "print(f\"Decision Tree {metrics.f1_score(test_labels_1, predicted_labels_dec_tree, average='micro')} | GaussianNB {metrics.f1_score(test_labels_1, predicted_labels_1, average='micro')}\")\n",
        "print(\"F1 (macro):\")\n",
        "print(f\"Decision Tree {metrics.f1_score(test_labels_1, predicted_labels_dec_tree, average='macro')} | GaussianNB {metrics.f1_score(test_labels_1, predicted_labels_1, average='macro')}\")\n",
        "print(\"F1 (weighted):\")\n",
        "print(f\"Decision Tree {metrics.f1_score(test_labels_1, predicted_labels_dec_tree, average='weighted')} | GaussianNB {metrics.f1_score(test_labels_1, predicted_labels_1, average='weighted')}\")"
      ],
      "metadata": {
        "colab": {
          "base_uri": "https://localhost:8080/"
        },
        "id": "MkZAxYrF5iMT",
        "outputId": "dae7d34a-d381-442a-a776-df6121d72aa2"
      },
      "id": "MkZAxYrF5iMT",
      "execution_count": null,
      "outputs": [
        {
          "output_type": "stream",
          "name": "stdout",
          "text": [
            "Accuracy:\n",
            "Decision Tree 0.8273519610356319 | GaussianNB 0.19072032812099463\n",
            "\n",
            "Precision (micro):\n",
            "Decision Tree 0.8273519610356319 | GaussianNB 0.19072032812099463\n",
            "Precision (macro):\n",
            "Decision Tree 0.5203163974048631 | GaussianNB 0.2600488064775045\n",
            "Precision (weighted):\n",
            "Decision Tree 0.7964132242548033 | GaussianNB 0.763750805998103\n",
            "\n",
            "Recall (micro):\n",
            "Decision Tree 0.8273519610356319 | GaussianNB 0.19072032812099463\n",
            "Recall (macro):\n",
            "Decision Tree 0.3296079011783342 | GaussianNB 0.2881195131841879\n",
            "Recall (weighted):\n",
            "Decision Tree 0.8273519610356319 | GaussianNB 0.19072032812099463\n",
            "\n",
            "F1 (micro):\n",
            "Decision Tree 0.8273519610356319 | GaussianNB 0.19072032812099465\n",
            "F1 (macro):\n",
            "Decision Tree 0.37132931637644234 | GaussianNB 0.15202301076422484\n",
            "F1 (weighted):\n",
            "Decision Tree 0.7911931040901998 | GaussianNB 0.25718501277475475\n"
          ]
        },
        {
          "output_type": "stream",
          "name": "stderr",
          "text": [
            "/usr/local/lib/python3.9/dist-packages/sklearn/metrics/_classification.py:1344: UndefinedMetricWarning: Precision is ill-defined and being set to 0.0 in labels with no predicted samples. Use `zero_division` parameter to control this behavior.\n",
            "  _warn_prf(average, modifier, msg_start, len(result))\n",
            "/usr/local/lib/python3.9/dist-packages/sklearn/metrics/_classification.py:1344: UndefinedMetricWarning: Precision is ill-defined and being set to 0.0 in labels with no predicted samples. Use `zero_division` parameter to control this behavior.\n",
            "  _warn_prf(average, modifier, msg_start, len(result))\n"
          ]
        }
      ]
    },
    {
      "cell_type": "code",
      "source": [
        "predicted_labels_dec_tree_test_true = clf_dec_tree.predict(test_data_true)"
      ],
      "metadata": {
        "id": "UCoU9E2v6Deu"
      },
      "id": "UCoU9E2v6Deu",
      "execution_count": null,
      "outputs": []
    },
    {
      "cell_type": "code",
      "source": [
        "print(predicted_labels_dec_tree_test_true[:1000])"
      ],
      "metadata": {
        "colab": {
          "base_uri": "https://localhost:8080/"
        },
        "id": "XPeevcU06nVD",
        "outputId": "59228004-1920-4e2b-e031-df1903dde207"
      },
      "id": "XPeevcU06nVD",
      "execution_count": null,
      "outputs": [
        {
          "output_type": "stream",
          "name": "stdout",
          "text": [
            "[4 4 4 1 4 1 4 4 3 4 4 4 4 4 1 4 4 4 4 1 4 4 4 1 4 4 4 4 1 4 4 4 1 4 4 4 4\n",
            " 1 4 1 4 4 4 4 4 4 1 4 4 4 4 1 4 4 4 4 4 4 4 4 1 1 4 1 4 1 4 1 4 4 4 4 4 4\n",
            " 4 4 4 1 4 3 4 1 4 4 1 4 4 4 4 4 4 4 4 4 4 4 4 4 4 4 4 1 1 1 4 4 4 4 1 1 1\n",
            " 4 4 4 4 4 4 4 4 1 4 1 1 4 4 4 4 4 1 1 4 4 4 1 4 4 1 4 4 4 4 4 4 4 4 4 1 4\n",
            " 4 4 4 4 4 1 4 4 4 1 4 4 1 4 4 4 4 4 4 1 4 4 1 1 4 4 1 4 4 1 4 4 4 3 4 3 1\n",
            " 1 4 4 4 4 1 4 4 4 4 4 4 4 1 4 4 4 4 4 4 4 1 1 1 4 4 4 1 4 1 4 4 4 1 1 4 4\n",
            " 4 4 1 4 4 4 4 4 4 4 4 4 4 4 4 1 4 4 4 1 4 4 4 4 4 4 1 4 1 4 4 4 4 1 4 4 4\n",
            " 4 4 4 4 4 1 4 4 4 4 4 4 4 4 4 4 4 1 4 4 4 4 4 1 4 4 4 4 4 1 4 4 4 1 4 4 4\n",
            " 3 4 4 4 4 4 4 4 1 4 4 4 4 4 4 4 1 4 4 4 4 1 1 1 4 1 4 4 4 1 1 4 4 4 4 4 4\n",
            " 4 4 4 4 4 4 4 4 1 4 4 4 4 4 1 4 1 1 4 4 1 4 4 4 4 4 4 4 4 4 4 3 4 4 4 4 3\n",
            " 4 4 4 1 4 4 1 4 4 4 1 4 4 4 1 4 4 4 1 4 4 4 1 4 4 4 4 4 4 4 1 4 4 4 4 1 1\n",
            " 1 4 4 1 1 1 4 4 4 1 4 1 4 1 4 4 4 4 4 4 4 1 4 4 1 4 4 4 4 4 4 4 4 4 1 4 4\n",
            " 4 1 4 4 4 4 1 4 1 1 4 4 1 4 1 4 4 1 4 4 1 4 4 1 1 1 4 4 4 4 4 4 4 4 4 4 4\n",
            " 4 4 4 4 4 4 4 4 1 4 4 4 4 4 4 4 4 4 4 4 1 4 4 4 4 1 1 1 4 1 4 1 4 4 4 4 4\n",
            " 4 4 1 4 4 4 4 1 4 4 4 4 4 4 4 4 4 3 3 4 4 1 4 4 4 1 4 4 4 4 1 4 4 4 4 4 4\n",
            " 4 4 4 4 4 1 1 4 4 4 1 4 1 4 4 4 4 4 4 4 1 1 1 4 4 4 4 4 4 4 4 3 4 4 4 1 4\n",
            " 4 4 4 4 4 4 4 1 4 4 4 4 4 3 4 1 4 4 1 4 4 4 4 4 4 4 4 4 4 1 1 4 4 4 1 1 1\n",
            " 4 1 4 4 1 4 4 4 4 4 4 4 3 4 1 4 4 4 4 1 4 4 4 4 4 4 4 1 1 1 4 3 4 4 4 4 4\n",
            " 1 1 4 4 4 1 4 4 1 4 3 4 4 4 4 4 4 1 4 4 4 4 1 4 4 4 4 4 4 4 1 4 4 4 4 4 1\n",
            " 3 4 4 4 1 4 4 4 4 4 4 4 1 4 4 4 4 4 4 1 1 4 4 4 4 4 1 4 4 4 4 4 4 4 1 4 1\n",
            " 4 1 4 4 1 4 1 4 1 1 4 4 4 4 4 4 1 4 4 1 4 4 4 3 1 4 4 4 1 4 4 4 4 4 4 4 4\n",
            " 4 4 3 4 4 1 4 4 4 4 1 4 4 4 4 4 4 4 4 4 4 4 4 4 4 4 4 1 1 4 4 4 4 4 4 4 4\n",
            " 4 1 4 4 4 4 1 4 4 1 4 1 4 1 4 4 1 4 4 1 4 4 4 4 1 4 4 4 4 4 4 4 4 4 4 4 4\n",
            " 4 4 4 4 4 4 1 4 4 4 4 4 1 4 4 4 4 4 1 4 4 4 1 4 4 4 4 4 4 4 4 3 3 4 4 4 4\n",
            " 4 4 1 1 4 4 4 4 4 4 4 4 4 4 1 4 4 4 4 4 1 4 4 1 4 4 1 4 4 4 3 4 4 4 4 4 4\n",
            " 4 1 4 1 4 4 1 4 4 4 1 4 4 4 4 4 4 4 1 1 4 4 4 4 4 1 4 4 4 4 4 4 4 4 4 1 4\n",
            " 4 4 4 4 4 4 4 1 4 4 4 4 1 4 4 4 3 4 4 4 1 1 1 4 4 1 4 4 4 4 1 1 1 4 4 4 1\n",
            " 4]\n"
          ]
        }
      ]
    },
    {
      "cell_type": "code",
      "source": [
        "print(list(predicted_labels_dec_tree_test_true))"
      ],
      "metadata": {
        "colab": {
          "base_uri": "https://localhost:8080/"
        },
        "id": "esxOFBEs9IR4",
        "outputId": "5d0430af-5573-479d-a99c-761af4cac284"
      },
      "id": "esxOFBEs9IR4",
      "execution_count": null,
      "outputs": [
        {
          "output_type": "stream",
          "name": "stdout",
          "text": [
            "[4, 4, 4, 1, 4, 1, 4, 4, 3, 4, 4, 4, 4, 4, 1, 4, 4, 4, 4, 1, 4, 4, 4, 1, 4, 4, 4, 4, 1, 4, 4, 4, 1, 4, 4, 4, 4, 1, 4, 1, 4, 4, 4, 4, 4, 4, 1, 4, 4, 4, 4, 1, 4, 4, 4, 4, 4, 4, 4, 4, 1, 1, 4, 1, 4, 1, 4, 1, 4, 4, 4, 4, 4, 4, 4, 4, 4, 1, 4, 3, 4, 1, 4, 4, 1, 4, 4, 4, 4, 4, 4, 4, 4, 4, 4, 4, 4, 4, 4, 4, 4, 1, 1, 1, 4, 4, 4, 4, 1, 1, 1, 4, 4, 4, 4, 4, 4, 4, 4, 1, 4, 1, 1, 4, 4, 4, 4, 4, 1, 1, 4, 4, 4, 1, 4, 4, 1, 4, 4, 4, 4, 4, 4, 4, 4, 4, 1, 4, 4, 4, 4, 4, 4, 1, 4, 4, 4, 1, 4, 4, 1, 4, 4, 4, 4, 4, 4, 1, 4, 4, 1, 1, 4, 4, 1, 4, 4, 1, 4, 4, 4, 3, 4, 3, 1, 1, 4, 4, 4, 4, 1, 4, 4, 4, 4, 4, 4, 4, 1, 4, 4, 4, 4, 4, 4, 4, 1, 1, 1, 4, 4, 4, 1, 4, 1, 4, 4, 4, 1, 1, 4, 4, 4, 4, 1, 4, 4, 4, 4, 4, 4, 4, 4, 4, 4, 4, 4, 1, 4, 4, 4, 1, 4, 4, 4, 4, 4, 4, 1, 4, 1, 4, 4, 4, 4, 1, 4, 4, 4, 4, 4, 4, 4, 4, 1, 4, 4, 4, 4, 4, 4, 4, 4, 4, 4, 4, 1, 4, 4, 4, 4, 4, 1, 4, 4, 4, 4, 4, 1, 4, 4, 4, 1, 4, 4, 4, 3, 4, 4, 4, 4, 4, 4, 4, 1, 4, 4, 4, 4, 4, 4, 4, 1, 4, 4, 4, 4, 1, 1, 1, 4, 1, 4, 4, 4, 1, 1, 4, 4, 4, 4, 4, 4, 4, 4, 4, 4, 4, 4, 4, 4, 1, 4, 4, 4, 4, 4, 1, 4, 1, 1, 4, 4, 1, 4, 4, 4, 4, 4, 4, 4, 4, 4, 4, 3, 4, 4, 4, 4, 3, 4, 4, 4, 1, 4, 4, 1, 4, 4, 4, 1, 4, 4, 4, 1, 4, 4, 4, 1, 4, 4, 4, 1, 4, 4, 4, 4, 4, 4, 4, 1, 4, 4, 4, 4, 1, 1, 1, 4, 4, 1, 1, 1, 4, 4, 4, 1, 4, 1, 4, 1, 4, 4, 4, 4, 4, 4, 4, 1, 4, 4, 1, 4, 4, 4, 4, 4, 4, 4, 4, 4, 1, 4, 4, 4, 1, 4, 4, 4, 4, 1, 4, 1, 1, 4, 4, 1, 4, 1, 4, 4, 1, 4, 4, 1, 4, 4, 1, 1, 1, 4, 4, 4, 4, 4, 4, 4, 4, 4, 4, 4, 4, 4, 4, 4, 4, 4, 4, 4, 1, 4, 4, 4, 4, 4, 4, 4, 4, 4, 4, 4, 1, 4, 4, 4, 4, 1, 1, 1, 4, 1, 4, 1, 4, 4, 4, 4, 4, 4, 4, 1, 4, 4, 4, 4, 1, 4, 4, 4, 4, 4, 4, 4, 4, 4, 3, 3, 4, 4, 1, 4, 4, 4, 1, 4, 4, 4, 4, 1, 4, 4, 4, 4, 4, 4, 4, 4, 4, 4, 4, 1, 1, 4, 4, 4, 1, 4, 1, 4, 4, 4, 4, 4, 4, 4, 1, 1, 1, 4, 4, 4, 4, 4, 4, 4, 4, 3, 4, 4, 4, 1, 4, 4, 4, 4, 4, 4, 4, 4, 1, 4, 4, 4, 4, 4, 3, 4, 1, 4, 4, 1, 4, 4, 4, 4, 4, 4, 4, 4, 4, 4, 1, 1, 4, 4, 4, 1, 1, 1, 4, 1, 4, 4, 1, 4, 4, 4, 4, 4, 4, 4, 3, 4, 1, 4, 4, 4, 4, 1, 4, 4, 4, 4, 4, 4, 4, 1, 1, 1, 4, 3, 4, 4, 4, 4, 4, 1, 1, 4, 4, 4, 1, 4, 4, 1, 4, 3, 4, 4, 4, 4, 4, 4, 1, 4, 4, 4, 4, 1, 4, 4, 4, 4, 4, 4, 4, 1, 4, 4, 4, 4, 4, 1, 3, 4, 4, 4, 1, 4, 4, 4, 4, 4, 4, 4, 1, 4, 4, 4, 4, 4, 4, 1, 1, 4, 4, 4, 4, 4, 1, 4, 4, 4, 4, 4, 4, 4, 1, 4, 1, 4, 1, 4, 4, 1, 4, 1, 4, 1, 1, 4, 4, 4, 4, 4, 4, 1, 4, 4, 1, 4, 4, 4, 3, 1, 4, 4, 4, 1, 4, 4, 4, 4, 4, 4, 4, 4, 4, 4, 3, 4, 4, 1, 4, 4, 4, 4, 1, 4, 4, 4, 4, 4, 4, 4, 4, 4, 4, 4, 4, 4, 4, 4, 4, 1, 1, 4, 4, 4, 4, 4, 4, 4, 4, 4, 1, 4, 4, 4, 4, 1, 4, 4, 1, 4, 1, 4, 1, 4, 4, 1, 4, 4, 1, 4, 4, 4, 4, 1, 4, 4, 4, 4, 4, 4, 4, 4, 4, 4, 4, 4, 4, 4, 4, 4, 4, 4, 1, 4, 4, 4, 4, 4, 1, 4, 4, 4, 4, 4, 1, 4, 4, 4, 1, 4, 4, 4, 4, 4, 4, 4, 4, 3, 3, 4, 4, 4, 4, 4, 4, 1, 1, 4, 4, 4, 4, 4, 4, 4, 4, 4, 4, 1, 4, 4, 4, 4, 4, 1, 4, 4, 1, 4, 4, 1, 4, 4, 4, 3, 4, 4, 4, 4, 4, 4, 4, 1, 4, 1, 4, 4, 1, 4, 4, 4, 1, 4, 4, 4, 4, 4, 4, 4, 1, 1, 4, 4, 4, 4, 4, 1, 4, 4, 4, 4, 4, 4, 4, 4, 4, 1, 4, 4, 4, 4, 4, 4, 4, 4, 1, 4, 4, 4, 4, 1, 4, 4, 4, 3, 4, 4, 4, 1, 1, 1, 4, 4, 1, 4, 4, 4, 4, 1, 1, 1, 4, 4, 4, 1, 4, 4, 4, 4, 4, 1, 4, 4, 4, 4, 0, 4, 4, 4, 4, 4, 4, 4, 1, 4, 4, 4, 4, 4, 4, 1, 4, 1, 4, 4, 4, 1, 4, 4, 4, 4, 1, 4, 4, 4, 4, 4, 1, 1, 4, 4, 1, 4, 4, 1, 4, 1, 4, 3, 4, 4, 4, 3, 1, 4, 4, 4, 4, 4, 4, 4, 1, 4, 4, 4, 1, 4, 4, 4, 4, 4, 4, 4, 4, 1, 1, 4, 4, 4, 4, 4, 4, 1, 4, 4, 4, 4, 4, 1, 4, 4, 4, 1, 3, 1, 1, 1, 4, 4, 4, 1, 4, 4, 4, 4, 4, 4, 1, 4, 4, 4, 1, 3, 1, 4, 4, 4, 4, 4, 4, 4, 4, 4, 3, 4, 4, 4, 4, 4, 4, 4, 4, 4, 1, 4, 4, 4, 4, 1, 4, 4, 4, 1, 4, 4, 4, 4, 4, 4, 4, 4, 4, 4, 4, 4, 4, 1, 4, 4, 4, 4, 4, 4, 4, 4, 3, 1, 1, 4, 1, 4, 1, 4, 4, 4, 4, 4, 4, 4, 4, 4, 4, 4, 1, 1, 1, 1, 4, 4, 4, 4, 1, 4, 4, 4, 1, 4, 4, 4, 4, 4, 4, 4, 4, 4, 4, 4, 4, 1, 4, 4, 4, 1, 4, 4, 4, 4, 4, 4, 4, 4, 4, 4, 4, 4, 4, 1, 1, 1, 4, 4, 4, 4, 4, 4, 4, 4, 4, 4, 4, 4, 4, 4, 4, 4, 1, 1, 4, 4, 1, 1, 4, 4, 4, 4, 4, 1, 4, 4, 4, 4, 4, 3, 4, 4, 4, 4, 4, 4, 4, 1, 4, 4, 4, 4, 1, 4, 4, 1, 4, 4, 4, 4, 4, 4, 4, 4, 4, 4, 4, 4, 1, 1, 1, 1, 4, 4, 4, 4, 4, 1, 4, 4, 4, 4, 4, 4, 4, 4, 4, 4, 4, 4, 1, 1, 1, 4, 4, 1, 4, 4, 4, 4, 4, 4, 4, 4, 4, 4, 4, 4, 4, 4, 1, 4, 4, 1, 4, 4, 4, 4, 4, 4, 4, 4, 4, 1, 4, 4, 4, 4, 4, 4, 4, 1, 4, 4, 4, 4, 4, 4, 4, 4, 4, 4, 4, 3, 4, 4, 4, 4, 4, 4, 4, 4, 4, 4, 4, 4, 1, 4, 4, 4, 3, 4, 4, 4, 4, 1, 4, 4, 4, 4, 4, 4, 4, 4, 4, 4, 4, 4, 4, 1, 4, 1, 4, 4, 4, 4, 4, 4, 4, 1, 4, 1, 4, 4, 4, 4, 4, 4, 4, 1, 4, 4, 1, 4, 1, 1, 4, 4, 4, 4, 4, 1, 1, 1, 1, 4, 4, 1, 1, 1, 4, 4, 1, 1, 4, 4, 4, 4, 4, 4, 4, 1, 4, 0, 1, 4, 4, 4, 1, 4, 4, 4, 4, 4, 1, 4, 1, 1, 1, 1, 4, 4, 4, 4, 1, 4, 1, 4, 4, 4, 4, 4, 4, 4, 3, 4, 4, 4, 1, 3, 4, 1, 4, 4, 4, 4, 4, 4, 1, 4, 1, 4, 4, 4, 4, 1, 4, 4, 4, 1, 4, 4, 4, 4, 4, 1, 4, 4, 4, 4, 4, 1, 4, 4, 4, 4, 3, 4, 4, 4, 4, 4, 1, 1, 4, 4, 1, 4, 1, 3, 4, 1, 4, 4, 4, 4, 3, 4, 4, 4, 4, 4, 4, 4, 4, 1, 4, 4, 4, 4, 1, 4, 4, 4, 4, 4, 4, 4, 4, 4, 4, 1, 1, 4, 4, 1, 4, 4, 4, 4, 4, 4, 4, 4, 1, 4, 4, 4, 4, 4, 1, 4, 4, 4, 4, 4, 1, 4, 4, 4, 4, 4, 4, 4, 4, 1, 1, 4, 4, 4, 1, 4, 4, 1, 4, 4, 4, 4, 4, 3, 4, 4, 4, 4, 4, 4, 4, 4, 4, 4, 4, 4, 1, 4, 4, 4, 4, 4, 4, 4, 4, 1, 4, 4, 4, 4, 4, 4, 4, 4, 4, 4, 4, 1, 4, 4, 4, 4, 4, 4, 4, 4, 4, 1, 4, 4, 1, 1, 1, 4, 1, 4, 4, 4, 4, 4, 4, 4, 1, 1, 1, 4, 4, 1, 4, 4, 1, 4, 4, 4, 1, 1, 4, 4, 1, 4, 4, 4, 4, 4, 4, 4, 4, 1, 4, 4, 4, 4, 4, 1, 4, 4, 1, 4, 4, 4, 4, 4, 4, 4, 4, 4, 4, 4, 4, 4, 4, 4, 1, 1, 4, 4, 4, 4, 4, 4, 4, 1, 4, 0, 4, 1, 4, 1, 4, 4, 1, 4, 4, 4, 4, 4, 1, 4, 1, 4, 4, 4, 4, 4, 4, 4, 4, 4, 4, 3, 4, 4, 4, 1, 4, 1, 1, 4, 3, 1, 1, 1, 4, 1, 4, 1, 4, 1, 4, 4, 4, 4, 4, 4, 4, 4, 4, 4, 4, 1, 4, 4, 4, 4, 4, 4, 4, 4, 4, 4, 4, 4, 4, 4, 1, 4, 1, 4, 3, 1, 1, 4, 1, 4, 1, 1, 4, 4, 1, 4, 4, 4, 4, 4, 4, 1, 4, 4, 4, 1, 1, 4, 4, 4, 4, 4, 4, 4, 4, 1, 1, 4, 4, 4, 4, 4, 4, 4, 4, 4, 4, 4, 4, 4, 1, 1, 4, 4, 4, 4, 4, 4, 4, 4, 4, 4, 1, 4, 4, 4, 4, 4, 4, 1, 4, 4, 4, 4, 4, 4, 1, 4, 4, 4, 4, 4, 4, 4, 3, 4, 1, 4, 1, 4, 4, 4, 4, 4, 4, 4, 1, 4, 4, 4, 1, 4, 4, 1, 4, 1, 4, 4, 4, 4, 4, 1, 4, 4, 4, 4, 1, 1, 4, 4, 4, 1, 4, 4, 4, 4, 4, 1, 4, 4, 4, 4, 4, 4, 1, 4, 4, 4, 4, 4, 4, 1, 1, 4, 4, 4, 4, 1, 4, 4, 4, 4, 1, 4, 4, 4, 4, 4, 4, 1, 4, 1, 4, 4, 4, 4, 4, 4, 3, 1, 4, 3, 1, 4, 4, 1, 4, 4, 4, 4, 4, 4, 4, 4, 4, 1, 4, 4, 4, 1, 4, 4, 1, 4, 4, 4, 4, 4, 4, 4, 1, 4, 4, 4, 4, 4, 4, 4, 4, 4, 4, 4, 4, 1, 4, 1, 1, 4, 4, 4, 4, 4, 4, 4, 4, 1, 4, 4, 4, 4, 1, 4, 1, 4, 4, 4, 4, 4, 4, 4, 4, 1, 1, 4, 4, 1, 3, 4, 4, 4, 4, 4, 4, 4, 4, 4, 4, 3, 4, 1, 4, 4, 4, 1, 4, 4, 4, 4, 4, 1, 4, 4, 4, 1, 4, 4, 4, 4, 4, 4, 4, 4, 4, 4, 1, 1, 4, 4, 4, 1, 4, 4, 4, 4, 4, 4, 1, 1, 4, 1, 4, 4, 4, 4, 4, 4, 4, 4, 1, 4, 4, 4, 4, 4, 4, 4, 4, 1, 4, 1, 4, 1, 1, 4, 4, 4, 4, 1, 4, 4, 4, 4, 4, 4, 4, 4, 4, 4, 4, 4, 4, 4, 1, 4, 4, 4, 4, 1, 4, 1, 4, 1, 4, 4, 4, 4, 4, 4, 4, 4, 1, 4, 1, 1, 4, 4, 4, 4, 1, 4, 4, 1, 1, 4, 4, 4, 4, 4, 4, 4, 4, 4, 4, 1, 4, 4, 4, 4, 1, 1, 1, 1, 1, 1, 4, 4, 4, 4, 4, 1, 4, 4, 1, 1, 1, 4, 1, 4, 4, 3, 4, 1, 4, 4, 4, 4, 4, 4, 4, 4, 4, 4, 1, 1, 4, 4, 4, 1, 4, 4, 4, 4, 4, 4, 4, 4, 4, 4, 4, 4, 4, 4, 4, 1, 4, 4, 1, 4, 4, 4, 1, 4, 4, 4, 1, 4, 4, 4, 4, 4, 4, 1, 4, 4, 4, 4, 4, 3, 1, 4, 4, 4, 4, 4, 4, 4, 4, 4, 4, 4, 4, 1, 4, 4, 1, 1, 4, 4, 4, 1, 4, 4, 4, 4, 4, 4, 4, 4, 4, 4, 4, 4, 4, 4, 4, 4, 1, 4, 4, 1, 4, 4, 4, 4, 4, 4, 4, 4, 4, 4, 4, 1, 1, 4, 4, 1, 4, 4, 4, 1, 4, 4, 1, 4, 4, 1, 4, 4, 4, 4, 4, 4, 4, 4, 4, 4, 4, 1, 4, 4, 4, 1, 4, 1, 4, 4, 4, 4, 4, 4, 4, 1, 4, 1, 4, 4, 1, 4, 4, 4, 1, 4, 4, 4, 4, 4, 4, 4, 4, 1, 4, 1, 4, 4, 4, 4, 4, 1, 4, 4, 4, 4, 4, 1, 1, 1, 4, 4, 4, 4, 4, 4, 4, 0, 4, 4, 4, 4, 4, 4, 4, 1, 4, 4, 1, 4, 1, 4, 1, 4, 4, 4, 4, 1, 4, 1, 4, 1, 4, 4, 1, 3, 1, 4, 1, 4, 1, 4, 4, 4, 4, 4, 1, 1, 1, 4, 4, 4, 4, 4, 1, 4, 4, 4, 4, 4, 4, 1, 1, 1, 4, 4, 1, 4, 4, 1, 4, 1, 4, 4, 4, 4, 4, 4, 4, 4, 4, 4, 4, 4, 4, 4, 4, 4, 4, 4, 4, 4, 4, 4, 3, 4, 1, 4, 1, 4, 4, 4, 4, 4, 4, 4, 4, 4, 4, 4, 4, 4, 4, 4, 4, 1, 4, 1, 1, 4, 4, 4, 4, 4, 4, 4, 4, 4, 4, 4, 4, 1, 1, 4, 1, 4, 1, 4, 4, 4, 4, 4, 4, 4, 4, 4, 4, 1, 4, 1, 4, 4, 4, 4, 3, 4, 4, 4, 4, 1, 4, 1, 4, 4, 4, 4, 4, 4, 3, 1, 4, 4, 4, 4, 4, 4, 4, 4, 4, 4, 4, 1, 4, 4, 1, 3, 4, 4, 4, 4, 4, 4, 4, 4, 4, 4, 1, 4, 4, 4, 4, 4, 1, 4, 4, 4, 4, 4, 4, 4, 4, 1, 4, 4, 4, 4, 1, 4, 4, 1, 4, 4, 4, 4, 4, 1, 4, 4, 1, 1, 1, 4, 4, 4, 4, 4, 4, 1, 4, 4, 4, 4, 4, 4, 1, 4, 4, 4, 4, 4, 4, 1, 1, 4, 4, 4, 4, 4, 4, 4, 4, 4, 4, 4, 4, 4, 4, 4, 1, 4, 4, 4, 4, 4, 4, 4, 4, 4, 1, 1, 1, 4, 1, 1, 4, 1, 4, 4, 4, 4, 4, 4, 4, 4, 4, 4, 4, 4, 1, 1, 3, 4, 4, 4, 4, 4, 1, 1, 4, 4, 0, 1, 4, 4, 4, 1, 4, 4, 4, 4, 4, 4, 4, 4, 4, 4, 1, 4, 4, 4, 4, 4, 4, 4, 4, 4, 1, 1, 1, 4, 4, 4, 4, 1, 4, 4, 4, 4, 4, 4, 4, 4, 3, 1, 4, 4, 4, 4, 4, 4, 1, 1, 4, 4, 4, 1, 4, 4, 1, 4, 4, 4, 4, 1, 4, 4, 4, 4, 4, 4, 1, 4, 1, 4, 4, 1, 4, 1, 4, 4, 4, 4, 1, 4, 4, 1, 4, 1, 1, 4, 4, 4, 1, 4, 1, 1, 4, 1, 4, 4, 1, 4, 4, 4, 4, 4, 4, 4, 1, 4, 1, 4, 4, 1, 4, 4, 4, 4, 4, 4, 4, 4, 1, 1, 1, 4, 4, 4, 4, 4, 4, 4, 3, 4, 1, 4, 4, 4, 4, 4, 4, 4, 4, 4, 4, 1, 4, 4, 1, 4, 4, 4, 4, 1, 4, 4, 4, 1, 4, 1, 1, 1, 4, 4, 4, 4, 4, 1, 4, 1, 4, 4, 1, 4, 4, 4, 4, 1, 4, 4, 4, 4, 4, 4, 4, 4, 1, 4, 4, 4, 4, 4, 1, 1, 4, 1, 4, 4, 4, 4, 4, 4, 4, 4, 1, 4, 4, 4, 1, 4, 1, 4, 4, 4, 4, 3, 3, 4, 4, 4, 4, 1, 4, 4, 4, 4, 4, 4, 4, 4, 4, 4, 4, 4, 4, 4, 4, 4, 1, 4, 4, 4, 4, 4, 4, 4, 4, 4, 4, 4, 1, 4, 0, 3, 4, 4, 4, 4, 4, 4, 4, 4, 4, 4, 4, 4, 4, 4, 4, 4, 4, 4, 4, 4, 4, 1, 4, 4, 4, 4, 4, 4, 1, 4, 4, 4, 4, 1, 4, 4, 1, 4, 3, 1, 1, 4, 4, 4, 4, 1, 4, 1, 1, 4, 4, 4, 4, 4, 1, 4, 4, 4, 4, 4, 4, 4, 4, 1, 4, 1, 4, 1, 1, 4, 4, 4, 4, 4, 1, 1, 1, 1, 1, 4, 4, 4, 1, 4, 4, 1, 4, 4, 1, 1, 4, 1, 1, 4, 1, 4, 1, 4, 4, 1, 4, 4, 4, 4, 1, 4, 4, 1, 4, 4, 4, 1, 4, 3, 3, 4, 1, 4, 4, 4, 4, 4, 4, 1, 1, 1, 4, 4, 4, 4, 4, 4, 4, 3, 4, 1, 4, 4, 4, 1, 1, 4, 4, 1, 4, 1, 4, 3, 1, 4, 4, 4, 4]\n"
          ]
        }
      ]
    },
    {
      "cell_type": "code",
      "source": [
        "print(predicted_labels_mlp_test_true_strings[:1000])"
      ],
      "metadata": {
        "colab": {
          "base_uri": "https://localhost:8080/"
        },
        "id": "J6MDUGyV-WFo",
        "outputId": "39194e69-8eb3-4701-f44d-13b9829f7ba4"
      },
      "id": "J6MDUGyV-WFo",
      "execution_count": null,
      "outputs": [
        {
          "output_type": "stream",
          "name": "stdout",
          "text": [
            "['non-offensive', 'non-offensive', 'non-offensive', 'descriptive', 'non-offensive', 'non-offensive', 'non-offensive', 'non-offensive', 'offensive', 'non-offensive', 'non-offensive', 'non-offensive', 'non-offensive', 'non-offensive', 'descriptive', 'non-offensive', 'non-offensive', 'non-offensive', 'non-offensive', 'descriptive', 'non-offensive', 'non-offensive', 'non-offensive', 'descriptive', 'non-offensive', 'non-offensive', 'non-offensive', 'non-offensive', 'non-offensive', 'non-offensive', 'non-offensive', 'non-offensive', 'non-offensive', 'non-offensive', 'non-offensive', 'non-offensive', 'descriptive', 'descriptive', 'non-offensive', 'descriptive', 'non-offensive', 'non-offensive', 'non-offensive', 'non-offensive', 'non-offensive', 'non-offensive', 'descriptive', 'non-offensive', 'non-offensive', 'descriptive', 'non-offensive', 'descriptive', 'non-offensive', 'descriptive', 'non-offensive', 'non-offensive', 'non-offensive', 'non-offensive', 'non-offensive', 'non-offensive', 'descriptive', 'descriptive', 'non-offensive', 'descriptive', 'non-offensive', 'descriptive', 'non-offensive', 'descriptive', 'non-offensive', 'non-offensive', 'non-offensive', 'non-offensive', 'non-offensive', 'non-offensive', 'descriptive', 'non-offensive', 'non-offensive', 'descriptive', 'non-offensive', 'offensive', 'non-offensive', 'non-offensive', 'non-offensive', 'non-offensive', 'descriptive', 'non-offensive', 'non-offensive', 'non-offensive', 'non-offensive', 'non-offensive', 'non-offensive', 'non-offensive', 'non-offensive', 'non-offensive', 'non-offensive', 'non-offensive', 'non-offensive', 'non-offensive', 'non-offensive', 'non-offensive', 'non-offensive', 'descriptive', 'descriptive', 'non-offensive', 'offensive', 'descriptive', 'non-offensive', 'non-offensive', 'non-offensive', 'descriptive', 'descriptive', 'non-offensive', 'non-offensive', 'descriptive', 'non-offensive', 'descriptive', 'non-offensive', 'non-offensive', 'non-offensive', 'descriptive', 'non-offensive', 'descriptive', 'descriptive', 'descriptive', 'non-offensive', 'descriptive', 'non-offensive', 'non-offensive', 'non-offensive', 'descriptive', 'descriptive', 'non-offensive', 'non-offensive', 'descriptive', 'non-offensive', 'non-offensive', 'descriptive', 'non-offensive', 'non-offensive', 'non-offensive', 'descriptive', 'non-offensive', 'non-offensive', 'non-offensive', 'non-offensive', 'non-offensive', 'descriptive', 'non-offensive', 'non-offensive', 'non-offensive', 'non-offensive', 'non-offensive', 'non-offensive', 'non-offensive', 'non-offensive', 'descriptive', 'non-offensive', 'descriptive', 'non-offensive', 'non-offensive', 'descriptive', 'non-offensive', 'non-offensive', 'non-offensive', 'non-offensive', 'non-offensive', 'non-offensive', 'descriptive', 'non-offensive', 'non-offensive', 'non-offensive', 'descriptive', 'non-offensive', 'non-offensive', 'descriptive', 'non-offensive', 'non-offensive', 'descriptive', 'non-offensive', 'non-offensive', 'non-offensive', 'offensive', 'non-offensive', 'offensive', 'descriptive', 'descriptive', 'descriptive', 'non-offensive', 'non-offensive', 'non-offensive', 'descriptive', 'descriptive', 'non-offensive', 'non-offensive', 'descriptive', 'non-offensive', 'non-offensive', 'non-offensive', 'descriptive', 'non-offensive', 'non-offensive', 'non-offensive', 'non-offensive', 'descriptive', 'non-offensive', 'non-offensive', 'descriptive', 'descriptive', 'non-offensive', 'non-offensive', 'descriptive', 'non-offensive', 'descriptive', 'direct', 'descriptive', 'descriptive', 'non-offensive', 'non-offensive', 'descriptive', 'descriptive', 'non-offensive', 'descriptive', 'non-offensive', 'non-offensive', 'descriptive', 'non-offensive', 'non-offensive', 'non-offensive', 'non-offensive', 'non-offensive', 'non-offensive', 'non-offensive', 'non-offensive', 'non-offensive', 'non-offensive', 'non-offensive', 'non-offensive', 'descriptive', 'non-offensive', 'non-offensive', 'non-offensive', 'descriptive', 'descriptive', 'non-offensive', 'non-offensive', 'direct', 'non-offensive', 'non-offensive', 'non-offensive', 'non-offensive', 'descriptive', 'descriptive', 'non-offensive', 'non-offensive', 'non-offensive', 'descriptive', 'non-offensive', 'non-offensive', 'non-offensive', 'non-offensive', 'descriptive', 'non-offensive', 'non-offensive', 'non-offensive', 'descriptive', 'non-offensive', 'non-offensive', 'non-offensive', 'non-offensive', 'non-offensive', 'non-offensive', 'non-offensive', 'non-offensive', 'non-offensive', 'non-offensive', 'non-offensive', 'descriptive', 'non-offensive', 'non-offensive', 'non-offensive', 'non-offensive', 'non-offensive', 'non-offensive', 'non-offensive', 'non-offensive', 'non-offensive', 'non-offensive', 'non-offensive', 'descriptive', 'non-offensive', 'non-offensive', 'non-offensive', 'descriptive', 'non-offensive', 'offensive', 'non-offensive', 'offensive', 'offensive', 'non-offensive', 'non-offensive', 'non-offensive', 'non-offensive', 'non-offensive', 'non-offensive', 'descriptive', 'non-offensive', 'descriptive', 'non-offensive', 'non-offensive', 'non-offensive', 'non-offensive', 'non-offensive', 'descriptive', 'non-offensive', 'non-offensive', 'non-offensive', 'non-offensive', 'descriptive', 'descriptive', 'descriptive', 'non-offensive', 'non-offensive', 'non-offensive', 'non-offensive', 'non-offensive', 'descriptive', 'descriptive', 'non-offensive', 'non-offensive', 'non-offensive', 'non-offensive', 'non-offensive', 'descriptive', 'non-offensive', 'non-offensive', 'non-offensive', 'non-offensive', 'non-offensive', 'non-offensive', 'non-offensive', 'non-offensive', 'descriptive', 'non-offensive', 'non-offensive', 'non-offensive', 'non-offensive', 'non-offensive', 'descriptive', 'non-offensive', 'descriptive', 'descriptive', 'non-offensive', 'non-offensive', 'descriptive', 'non-offensive', 'non-offensive', 'non-offensive', 'non-offensive', 'non-offensive', 'offensive', 'non-offensive', 'non-offensive', 'non-offensive', 'non-offensive', 'offensive', 'non-offensive', 'non-offensive', 'non-offensive', 'non-offensive', 'offensive', 'descriptive', 'non-offensive', 'non-offensive', 'descriptive', 'offensive', 'non-offensive', 'descriptive', 'non-offensive', 'non-offensive', 'non-offensive', 'descriptive', 'non-offensive', 'non-offensive', 'non-offensive', 'non-offensive', 'non-offensive', 'non-offensive', 'non-offensive', 'descriptive', 'non-offensive', 'direct', 'non-offensive', 'descriptive', 'non-offensive', 'non-offensive', 'non-offensive', 'non-offensive', 'non-offensive', 'descriptive', 'non-offensive', 'descriptive', 'non-offensive', 'non-offensive', 'non-offensive', 'non-offensive', 'descriptive', 'descriptive', 'descriptive', 'non-offensive', 'non-offensive', 'descriptive', 'descriptive', 'non-offensive', 'descriptive', 'non-offensive', 'non-offensive', 'descriptive', 'non-offensive', 'descriptive', 'non-offensive', 'descriptive', 'non-offensive', 'non-offensive', 'non-offensive', 'non-offensive', 'non-offensive', 'non-offensive', 'non-offensive', 'descriptive', 'non-offensive', 'non-offensive', 'non-offensive', 'non-offensive', 'non-offensive', 'non-offensive', 'non-offensive', 'non-offensive', 'non-offensive', 'non-offensive', 'non-offensive', 'non-offensive', 'descriptive', 'non-offensive', 'descriptive', 'non-offensive', 'descriptive', 'non-offensive', 'non-offensive', 'non-offensive', 'non-offensive', 'descriptive', 'non-offensive', 'descriptive', 'non-offensive', 'non-offensive', 'non-offensive', 'descriptive', 'non-offensive', 'non-offensive', 'non-offensive', 'non-offensive', 'descriptive', 'offensive', 'non-offensive', 'descriptive', 'non-offensive', 'non-offensive', 'descriptive', 'non-offensive', 'descriptive', 'non-offensive', 'offensive', 'offensive', 'offensive', 'non-offensive', 'offensive', 'non-offensive', 'non-offensive', 'non-offensive', 'non-offensive', 'non-offensive', 'offensive', 'non-offensive', 'offensive', 'non-offensive', 'non-offensive', 'non-offensive', 'non-offensive', 'offensive', 'descriptive', 'non-offensive', 'non-offensive', 'non-offensive', 'non-offensive', 'descriptive', 'non-offensive', 'non-offensive', 'non-offensive', 'non-offensive', 'non-offensive', 'non-offensive', 'non-offensive', 'non-offensive', 'non-offensive', 'non-offensive', 'non-offensive', 'non-offensive', 'descriptive', 'descriptive', 'non-offensive', 'non-offensive', 'non-offensive', 'descriptive', 'non-offensive', 'non-offensive', 'descriptive', 'descriptive', 'direct', 'descriptive', 'non-offensive', 'descriptive', 'descriptive', 'descriptive', 'non-offensive', 'non-offensive', 'descriptive', 'non-offensive', 'non-offensive', 'non-offensive', 'non-offensive', 'non-offensive', 'non-offensive', 'non-offensive', 'non-offensive', 'non-offensive', 'offensive', 'offensive', 'non-offensive', 'non-offensive', 'descriptive', 'non-offensive', 'non-offensive', 'non-offensive', 'descriptive', 'non-offensive', 'non-offensive', 'non-offensive', 'non-offensive', 'descriptive', 'non-offensive', 'non-offensive', 'non-offensive', 'non-offensive', 'non-offensive', 'non-offensive', 'non-offensive', 'non-offensive', 'non-offensive', 'non-offensive', 'non-offensive', 'descriptive', 'descriptive', 'non-offensive', 'non-offensive', 'non-offensive', 'descriptive', 'non-offensive', 'descriptive', 'non-offensive', 'non-offensive', 'non-offensive', 'non-offensive', 'non-offensive', 'non-offensive', 'descriptive', 'non-offensive', 'descriptive', 'descriptive', 'non-offensive', 'non-offensive', 'descriptive', 'non-offensive', 'non-offensive', 'non-offensive', 'non-offensive', 'offensive', 'offensive', 'non-offensive', 'non-offensive', 'non-offensive', 'non-offensive', 'non-offensive', 'non-offensive', 'non-offensive', 'non-offensive', 'non-offensive', 'non-offensive', 'non-offensive', 'non-offensive', 'descriptive', 'non-offensive', 'non-offensive', 'offensive', 'descriptive', 'non-offensive', 'offensive', 'offensive', 'descriptive', 'non-offensive', 'non-offensive', 'descriptive', 'non-offensive', 'descriptive', 'non-offensive', 'non-offensive', 'descriptive', 'non-offensive', 'non-offensive', 'non-offensive', 'non-offensive', 'non-offensive', 'non-offensive', 'descriptive', 'non-offensive', 'non-offensive', 'non-offensive', 'descriptive', 'descriptive', 'descriptive', 'descriptive', 'descriptive', 'non-offensive', 'direct', 'descriptive', 'non-offensive', 'non-offensive', 'non-offensive', 'non-offensive', 'non-offensive', 'non-offensive', 'non-offensive', 'offensive', 'non-offensive', 'descriptive', 'non-offensive', 'non-offensive', 'non-offensive', 'non-offensive', 'descriptive', 'non-offensive', 'non-offensive', 'non-offensive', 'non-offensive', 'non-offensive', 'non-offensive', 'non-offensive', 'descriptive', 'descriptive', 'descriptive', 'non-offensive', 'offensive', 'non-offensive', 'non-offensive', 'non-offensive', 'non-offensive', 'non-offensive', 'descriptive', 'descriptive', 'non-offensive', 'non-offensive', 'non-offensive', 'descriptive', 'non-offensive', 'non-offensive', 'descriptive', 'non-offensive', 'offensive', 'non-offensive', 'non-offensive', 'non-offensive', 'non-offensive', 'non-offensive', 'non-offensive', 'descriptive', 'non-offensive', 'non-offensive', 'non-offensive', 'descriptive', 'descriptive', 'non-offensive', 'non-offensive', 'non-offensive', 'non-offensive', 'non-offensive', 'descriptive', 'non-offensive', 'non-offensive', 'non-offensive', 'non-offensive', 'descriptive', 'non-offensive', 'non-offensive', 'descriptive', 'offensive', 'non-offensive', 'non-offensive', 'non-offensive', 'descriptive', 'non-offensive', 'non-offensive', 'non-offensive', 'non-offensive', 'non-offensive', 'non-offensive', 'non-offensive', 'descriptive', 'non-offensive', 'descriptive', 'direct', 'non-offensive', 'non-offensive', 'non-offensive', 'descriptive', 'descriptive', 'non-offensive', 'non-offensive', 'non-offensive', 'direct', 'non-offensive', 'descriptive', 'non-offensive', 'descriptive', 'non-offensive', 'non-offensive', 'non-offensive', 'non-offensive', 'non-offensive', 'descriptive', 'non-offensive', 'non-offensive', 'non-offensive', 'descriptive', 'non-offensive', 'non-offensive', 'descriptive', 'non-offensive', 'descriptive', 'non-offensive', 'descriptive', 'descriptive', 'offensive', 'non-offensive', 'non-offensive', 'non-offensive', 'non-offensive', 'non-offensive', 'descriptive', 'non-offensive', 'non-offensive', 'descriptive', 'non-offensive', 'non-offensive', 'non-offensive', 'offensive', 'descriptive', 'non-offensive', 'non-offensive', 'non-offensive', 'descriptive', 'descriptive', 'non-offensive', 'non-offensive', 'non-offensive', 'non-offensive', 'non-offensive', 'non-offensive', 'non-offensive', 'non-offensive', 'descriptive', 'offensive', 'non-offensive', 'non-offensive', 'descriptive', 'non-offensive', 'offensive', 'non-offensive', 'non-offensive', 'descriptive', 'non-offensive', 'non-offensive', 'non-offensive', 'non-offensive', 'non-offensive', 'non-offensive', 'non-offensive', 'non-offensive', 'non-offensive', 'non-offensive', 'non-offensive', 'non-offensive', 'non-offensive', 'offensive', 'descriptive', 'non-offensive', 'descriptive', 'descriptive', 'non-offensive', 'non-offensive', 'non-offensive', 'non-offensive', 'non-offensive', 'non-offensive', 'non-offensive', 'non-offensive', 'non-offensive', 'descriptive', 'non-offensive', 'non-offensive', 'non-offensive', 'non-offensive', 'descriptive', 'non-offensive', 'non-offensive', 'descriptive', 'non-offensive', 'descriptive', 'non-offensive', 'descriptive', 'non-offensive', 'direct', 'descriptive', 'non-offensive', 'offensive', 'descriptive', 'non-offensive', 'non-offensive', 'descriptive', 'descriptive', 'non-offensive', 'non-offensive', 'non-offensive', 'non-offensive', 'offensive', 'non-offensive', 'non-offensive', 'descriptive', 'non-offensive', 'non-offensive', 'non-offensive', 'offensive', 'non-offensive', 'non-offensive', 'non-offensive', 'non-offensive', 'non-offensive', 'non-offensive', 'non-offensive', 'descriptive', 'non-offensive', 'non-offensive', 'non-offensive', 'non-offensive', 'non-offensive', 'non-offensive', 'offensive', 'non-offensive', 'non-offensive', 'non-offensive', 'non-offensive', 'descriptive', 'non-offensive', 'non-offensive', 'non-offensive', 'non-offensive', 'non-offensive', 'non-offensive', 'non-offensive', 'non-offensive', 'non-offensive', 'non-offensive', 'non-offensive', 'non-offensive', 'offensive', 'direct', 'non-offensive', 'non-offensive', 'descriptive', 'non-offensive', 'non-offensive', 'non-offensive', 'descriptive', 'non-offensive', 'non-offensive', 'non-offensive', 'descriptive', 'non-offensive', 'descriptive', 'non-offensive', 'non-offensive', 'non-offensive', 'non-offensive', 'non-offensive', 'descriptive', 'non-offensive', 'non-offensive', 'non-offensive', 'non-offensive', 'non-offensive', 'non-offensive', 'non-offensive', 'non-offensive', 'descriptive', 'non-offensive', 'non-offensive', 'descriptive', 'non-offensive', 'non-offensive', 'non-offensive', 'offensive', 'non-offensive', 'non-offensive', 'offensive', 'non-offensive', 'non-offensive', 'non-offensive', 'descriptive', 'non-offensive', 'non-offensive', 'non-offensive', 'non-offensive', 'non-offensive', 'descriptive', 'non-offensive', 'non-offensive', 'descriptive', 'descriptive', 'non-offensive', 'non-offensive', 'non-offensive', 'non-offensive', 'non-offensive', 'non-offensive', 'non-offensive', 'descriptive', 'non-offensive', 'non-offensive', 'non-offensive', 'non-offensive', 'direct', 'non-offensive', 'descriptive', 'non-offensive', 'non-offensive', 'descriptive', 'non-offensive', 'non-offensive', 'non-offensive', 'non-offensive', 'non-offensive', 'non-offensive', 'descriptive', 'non-offensive', 'non-offensive', 'non-offensive', 'non-offensive', 'non-offensive', 'non-offensive', 'descriptive', 'non-offensive', 'descriptive', 'non-offensive', 'non-offensive', 'non-offensive', 'non-offensive', 'descriptive', 'non-offensive', 'non-offensive', 'non-offensive', 'offensive', 'non-offensive', 'non-offensive', 'non-offensive', 'descriptive', 'non-offensive', 'descriptive', 'non-offensive', 'non-offensive', 'descriptive', 'non-offensive', 'non-offensive', 'non-offensive', 'offensive', 'descriptive', 'descriptive', 'descriptive', 'non-offensive', 'non-offensive', 'non-offensive', 'non-offensive', 'non-offensive']\n"
          ]
        }
      ]
    },
    {
      "cell_type": "code",
      "source": [
        "from sklearn.neighbors import KNeighborsClassifier\n",
        "\n",
        "knn = KNeighborsClassifier(n_neighbors=3)\n",
        "\n",
        "knn.fit(train_data_1, train_labels_1)"
      ],
      "metadata": {
        "colab": {
          "base_uri": "https://localhost:8080/",
          "height": 75
        },
        "id": "qIlizKtYops9",
        "outputId": "0c605f16-7441-4cf8-cf13-b4e902f6e703"
      },
      "id": "qIlizKtYops9",
      "execution_count": null,
      "outputs": [
        {
          "output_type": "execute_result",
          "data": {
            "text/plain": [
              "KNeighborsClassifier(n_neighbors=3)"
            ],
            "text/html": [
              "<style>#sk-container-id-15 {color: black;background-color: white;}#sk-container-id-15 pre{padding: 0;}#sk-container-id-15 div.sk-toggleable {background-color: white;}#sk-container-id-15 label.sk-toggleable__label {cursor: pointer;display: block;width: 100%;margin-bottom: 0;padding: 0.3em;box-sizing: border-box;text-align: center;}#sk-container-id-15 label.sk-toggleable__label-arrow:before {content: \"▸\";float: left;margin-right: 0.25em;color: #696969;}#sk-container-id-15 label.sk-toggleable__label-arrow:hover:before {color: black;}#sk-container-id-15 div.sk-estimator:hover label.sk-toggleable__label-arrow:before {color: black;}#sk-container-id-15 div.sk-toggleable__content {max-height: 0;max-width: 0;overflow: hidden;text-align: left;background-color: #f0f8ff;}#sk-container-id-15 div.sk-toggleable__content pre {margin: 0.2em;color: black;border-radius: 0.25em;background-color: #f0f8ff;}#sk-container-id-15 input.sk-toggleable__control:checked~div.sk-toggleable__content {max-height: 200px;max-width: 100%;overflow: auto;}#sk-container-id-15 input.sk-toggleable__control:checked~label.sk-toggleable__label-arrow:before {content: \"▾\";}#sk-container-id-15 div.sk-estimator input.sk-toggleable__control:checked~label.sk-toggleable__label {background-color: #d4ebff;}#sk-container-id-15 div.sk-label input.sk-toggleable__control:checked~label.sk-toggleable__label {background-color: #d4ebff;}#sk-container-id-15 input.sk-hidden--visually {border: 0;clip: rect(1px 1px 1px 1px);clip: rect(1px, 1px, 1px, 1px);height: 1px;margin: -1px;overflow: hidden;padding: 0;position: absolute;width: 1px;}#sk-container-id-15 div.sk-estimator {font-family: monospace;background-color: #f0f8ff;border: 1px dotted black;border-radius: 0.25em;box-sizing: border-box;margin-bottom: 0.5em;}#sk-container-id-15 div.sk-estimator:hover {background-color: #d4ebff;}#sk-container-id-15 div.sk-parallel-item::after {content: \"\";width: 100%;border-bottom: 1px solid gray;flex-grow: 1;}#sk-container-id-15 div.sk-label:hover label.sk-toggleable__label {background-color: #d4ebff;}#sk-container-id-15 div.sk-serial::before {content: \"\";position: absolute;border-left: 1px solid gray;box-sizing: border-box;top: 0;bottom: 0;left: 50%;z-index: 0;}#sk-container-id-15 div.sk-serial {display: flex;flex-direction: column;align-items: center;background-color: white;padding-right: 0.2em;padding-left: 0.2em;position: relative;}#sk-container-id-15 div.sk-item {position: relative;z-index: 1;}#sk-container-id-15 div.sk-parallel {display: flex;align-items: stretch;justify-content: center;background-color: white;position: relative;}#sk-container-id-15 div.sk-item::before, #sk-container-id-15 div.sk-parallel-item::before {content: \"\";position: absolute;border-left: 1px solid gray;box-sizing: border-box;top: 0;bottom: 0;left: 50%;z-index: -1;}#sk-container-id-15 div.sk-parallel-item {display: flex;flex-direction: column;z-index: 1;position: relative;background-color: white;}#sk-container-id-15 div.sk-parallel-item:first-child::after {align-self: flex-end;width: 50%;}#sk-container-id-15 div.sk-parallel-item:last-child::after {align-self: flex-start;width: 50%;}#sk-container-id-15 div.sk-parallel-item:only-child::after {width: 0;}#sk-container-id-15 div.sk-dashed-wrapped {border: 1px dashed gray;margin: 0 0.4em 0.5em 0.4em;box-sizing: border-box;padding-bottom: 0.4em;background-color: white;}#sk-container-id-15 div.sk-label label {font-family: monospace;font-weight: bold;display: inline-block;line-height: 1.2em;}#sk-container-id-15 div.sk-label-container {text-align: center;}#sk-container-id-15 div.sk-container {/* jupyter's `normalize.less` sets `[hidden] { display: none; }` but bootstrap.min.css set `[hidden] { display: none !important; }` so we also need the `!important` here to be able to override the default hidden behavior on the sphinx rendered scikit-learn.org. See: https://github.com/scikit-learn/scikit-learn/issues/21755 */display: inline-block !important;position: relative;}#sk-container-id-15 div.sk-text-repr-fallback {display: none;}</style><div id=\"sk-container-id-15\" class=\"sk-top-container\"><div class=\"sk-text-repr-fallback\"><pre>KNeighborsClassifier(n_neighbors=3)</pre><b>In a Jupyter environment, please rerun this cell to show the HTML representation or trust the notebook. <br />On GitHub, the HTML representation is unable to render, please try loading this page with nbviewer.org.</b></div><div class=\"sk-container\" hidden><div class=\"sk-item\"><div class=\"sk-estimator sk-toggleable\"><input class=\"sk-toggleable__control sk-hidden--visually\" id=\"sk-estimator-id-15\" type=\"checkbox\" checked><label for=\"sk-estimator-id-15\" class=\"sk-toggleable__label sk-toggleable__label-arrow\">KNeighborsClassifier</label><div class=\"sk-toggleable__content\"><pre>KNeighborsClassifier(n_neighbors=3)</pre></div></div></div></div></div>"
            ]
          },
          "metadata": {},
          "execution_count": 418
        }
      ]
    },
    {
      "cell_type": "code",
      "source": [
        "predicted_labels_knn = knn.predict(test_data_1)"
      ],
      "metadata": {
        "id": "nuWnY1nOo-9h"
      },
      "id": "nuWnY1nOo-9h",
      "execution_count": null,
      "outputs": []
    },
    {
      "cell_type": "code",
      "source": [
        "predicted_labels_knn_test_true = knn.predict(test_data_true)"
      ],
      "metadata": {
        "id": "R2lBVrbZpAJC"
      },
      "id": "R2lBVrbZpAJC",
      "execution_count": null,
      "outputs": []
    },
    {
      "cell_type": "code",
      "source": [
        "print(predicted_labels_knn_test_true[:1000])"
      ],
      "metadata": {
        "colab": {
          "base_uri": "https://localhost:8080/"
        },
        "id": "bwCAMrurpExi",
        "outputId": "7003a340-5e3b-407f-d103-3ff768d47063"
      },
      "id": "bwCAMrurpExi",
      "execution_count": null,
      "outputs": [
        {
          "output_type": "stream",
          "name": "stdout",
          "text": [
            "[4 4 4 1 4 4 4 4 3 0 4 4 4 4 1 4 4 4 4 4 4 4 4 1 4 4 4 4 4 4 4 4 4 4 4 4 1\n",
            " 1 4 4 4 4 4 4 4 4 1 4 4 4 4 4 4 0 4 4 4 4 4 4 1 1 4 4 4 4 4 1 4 4 4 4 4 4\n",
            " 4 4 4 1 4 3 4 4 4 4 1 4 4 4 4 4 4 4 4 4 4 4 4 4 4 3 4 1 4 4 4 0 4 4 4 4 1\n",
            " 4 4 4 4 4 4 4 4 1 4 1 4 4 4 4 4 4 1 1 1 4 4 1 4 4 1 4 4 4 4 4 4 4 4 4 4 4\n",
            " 4 4 4 4 4 4 4 4 4 1 4 4 4 4 4 3 4 3 4 1 4 4 4 4 4 4 1 4 4 1 0 4 4 3 4 3 4\n",
            " 1 1 4 4 4 0 4 4 4 3 4 4 4 1 4 4 4 4 1 4 4 1 4 4 4 0 4 1 0 0 1 1 4 4 1 4 4\n",
            " 4 4 4 4 4 4 4 4 4 4 4 4 4 4 4 4 4 4 4 4 1 4 4 0 4 4 0 4 1 0 4 4 4 0 4 4 4\n",
            " 4 0 4 1 4 4 4 4 4 4 4 4 4 4 4 4 4 1 4 0 4 4 4 4 4 4 4 3 4 1 4 4 4 1 4 4 4\n",
            " 0 0 4 4 4 4 4 4 4 4 0 4 4 4 4 4 4 4 4 4 4 4 1 1 4 4 4 4 4 1 4 4 4 4 0 0 4\n",
            " 4 4 4 4 4 4 4 4 1 4 4 4 4 4 4 4 1 1 4 4 4 4 4 4 4 4 4 4 4 4 4 3 4 4 4 4 3\n",
            " 0 4 4 4 4 4 1 4 4 4 4 4 4 4 4 4 4 4 1 4 4 4 4 4 4 4 4 4 4 4 4 4 4 4 4 1 4\n",
            " 1 4 4 1 4 4 1 4 4 1 4 4 4 1 4 4 4 4 4 4 4 1 4 4 4 3 0 4 4 4 0 4 4 4 1 4 4\n",
            " 4 4 4 4 4 3 4 4 4 4 4 4 1 4 4 4 0 4 4 4 1 4 4 4 1 1 4 4 4 4 4 0 4 0 4 4 4\n",
            " 4 4 4 4 4 4 4 4 1 4 4 4 4 4 4 0 4 4 4 4 4 4 4 4 4 4 4 1 4 4 4 4 4 4 0 4 0\n",
            " 0 4 1 1 4 4 4 4 4 4 4 4 4 4 4 4 4 4 3 4 4 1 4 4 4 1 4 4 4 4 1 4 4 4 4 4 4\n",
            " 4 1 4 0 4 4 4 4 4 4 0 4 1 4 4 4 4 4 4 4 4 0 1 0 4 4 4 4 4 4 4 3 4 4 4 4 4\n",
            " 4 4 4 4 4 4 4 1 4 4 4 4 4 3 4 4 4 4 4 4 4 4 4 1 4 1 4 4 4 4 0 4 4 4 1 4 4\n",
            " 4 1 4 4 4 4 4 4 4 4 4 4 0 4 1 4 3 4 4 4 4 4 4 4 4 0 4 4 1 4 4 3 4 4 4 4 4\n",
            " 4 4 4 4 4 4 4 4 1 4 0 4 1 4 4 4 4 1 4 4 4 1 1 4 4 4 4 4 4 4 4 4 4 0 4 4 1\n",
            " 4 4 4 4 1 4 4 4 4 4 4 4 1 4 1 0 4 4 4 1 4 4 4 4 4 4 4 4 1 4 4 4 4 4 4 4 4\n",
            " 4 4 4 4 1 4 1 4 4 1 4 4 4 4 4 4 1 4 4 0 4 3 4 3 4 4 4 4 1 4 4 4 4 4 4 4 4\n",
            " 4 0 3 4 4 4 4 3 4 4 4 4 4 4 4 4 4 4 4 3 4 4 4 4 0 4 4 1 1 4 4 4 4 4 4 4 4\n",
            " 4 1 4 4 4 4 4 4 4 1 4 4 4 4 4 0 1 4 4 1 4 4 4 4 4 4 4 4 4 4 4 1 4 4 4 4 4\n",
            " 4 4 4 4 4 4 1 4 4 4 4 4 1 4 4 4 4 4 4 4 4 4 4 4 4 4 4 4 4 4 4 4 1 4 4 1 4\n",
            " 4 4 4 4 4 4 4 4 4 4 4 4 4 4 4 4 4 4 4 4 4 4 4 4 4 4 1 4 4 4 3 4 4 3 4 4 4\n",
            " 4 0 4 1 4 4 4 4 4 1 4 4 4 4 4 4 4 4 4 0 4 4 4 0 4 0 4 4 4 4 4 4 4 4 4 4 4\n",
            " 4 4 4 4 4 0 4 4 4 4 0 4 1 4 4 4 3 4 4 4 1 4 4 4 4 4 4 4 4 4 4 4 1 4 4 4 4\n",
            " 4]\n"
          ]
        }
      ]
    },
    {
      "cell_type": "code",
      "source": [
        "print(list(predicted_labels_knn_test_true))"
      ],
      "metadata": {
        "colab": {
          "base_uri": "https://localhost:8080/"
        },
        "id": "u7Y6yLfapF6-",
        "outputId": "4dd899f3-ca12-4991-9cfb-e576d40c3847"
      },
      "id": "u7Y6yLfapF6-",
      "execution_count": null,
      "outputs": [
        {
          "output_type": "stream",
          "name": "stdout",
          "text": [
            "[4, 4, 4, 1, 4, 4, 4, 4, 3, 0, 4, 4, 4, 4, 1, 4, 4, 4, 4, 4, 4, 4, 4, 1, 4, 4, 4, 4, 4, 4, 4, 4, 4, 4, 4, 4, 1, 1, 4, 4, 4, 4, 4, 4, 4, 4, 1, 4, 4, 4, 4, 4, 4, 0, 4, 4, 4, 4, 4, 4, 1, 1, 4, 4, 4, 4, 4, 1, 4, 4, 4, 4, 4, 4, 4, 4, 4, 1, 4, 3, 4, 4, 4, 4, 1, 4, 4, 4, 4, 4, 4, 4, 4, 4, 4, 4, 4, 4, 4, 3, 4, 1, 4, 4, 4, 0, 4, 4, 4, 4, 1, 4, 4, 4, 4, 4, 4, 4, 4, 1, 4, 1, 4, 4, 4, 4, 4, 4, 1, 1, 1, 4, 4, 1, 4, 4, 1, 4, 4, 4, 4, 4, 4, 4, 4, 4, 4, 4, 4, 4, 4, 4, 4, 4, 4, 4, 4, 1, 4, 4, 4, 4, 4, 3, 4, 3, 4, 1, 4, 4, 4, 4, 4, 4, 1, 4, 4, 1, 0, 4, 4, 3, 4, 3, 4, 1, 1, 4, 4, 4, 0, 4, 4, 4, 3, 4, 4, 4, 1, 4, 4, 4, 4, 1, 4, 4, 1, 4, 4, 4, 0, 4, 1, 0, 0, 1, 1, 4, 4, 1, 4, 4, 4, 4, 4, 4, 4, 4, 4, 4, 4, 4, 4, 4, 4, 4, 4, 4, 4, 4, 4, 4, 1, 4, 4, 0, 4, 4, 0, 4, 1, 0, 4, 4, 4, 0, 4, 4, 4, 4, 0, 4, 1, 4, 4, 4, 4, 4, 4, 4, 4, 4, 4, 4, 4, 4, 1, 4, 0, 4, 4, 4, 4, 4, 4, 4, 3, 4, 1, 4, 4, 4, 1, 4, 4, 4, 0, 0, 4, 4, 4, 4, 4, 4, 4, 4, 0, 4, 4, 4, 4, 4, 4, 4, 4, 4, 4, 4, 1, 1, 4, 4, 4, 4, 4, 1, 4, 4, 4, 4, 0, 0, 4, 4, 4, 4, 4, 4, 4, 4, 4, 1, 4, 4, 4, 4, 4, 4, 4, 1, 1, 4, 4, 4, 4, 4, 4, 4, 4, 4, 4, 4, 4, 4, 3, 4, 4, 4, 4, 3, 0, 4, 4, 4, 4, 4, 1, 4, 4, 4, 4, 4, 4, 4, 4, 4, 4, 4, 1, 4, 4, 4, 4, 4, 4, 4, 4, 4, 4, 4, 4, 4, 4, 4, 4, 1, 4, 1, 4, 4, 1, 4, 4, 1, 4, 4, 1, 4, 4, 4, 1, 4, 4, 4, 4, 4, 4, 4, 1, 4, 4, 4, 3, 0, 4, 4, 4, 0, 4, 4, 4, 1, 4, 4, 4, 4, 4, 4, 4, 3, 4, 4, 4, 4, 4, 4, 1, 4, 4, 4, 0, 4, 4, 4, 1, 4, 4, 4, 1, 1, 4, 4, 4, 4, 4, 0, 4, 0, 4, 4, 4, 4, 4, 4, 4, 4, 4, 4, 4, 1, 4, 4, 4, 4, 4, 4, 0, 4, 4, 4, 4, 4, 4, 4, 4, 4, 4, 4, 1, 4, 4, 4, 4, 4, 4, 0, 4, 0, 0, 4, 1, 1, 4, 4, 4, 4, 4, 4, 4, 4, 4, 4, 4, 4, 4, 4, 3, 4, 4, 1, 4, 4, 4, 1, 4, 4, 4, 4, 1, 4, 4, 4, 4, 4, 4, 4, 1, 4, 0, 4, 4, 4, 4, 4, 4, 0, 4, 1, 4, 4, 4, 4, 4, 4, 4, 4, 0, 1, 0, 4, 4, 4, 4, 4, 4, 4, 3, 4, 4, 4, 4, 4, 4, 4, 4, 4, 4, 4, 4, 1, 4, 4, 4, 4, 4, 3, 4, 4, 4, 4, 4, 4, 4, 4, 4, 1, 4, 1, 4, 4, 4, 4, 0, 4, 4, 4, 1, 4, 4, 4, 1, 4, 4, 4, 4, 4, 4, 4, 4, 4, 4, 0, 4, 1, 4, 3, 4, 4, 4, 4, 4, 4, 4, 4, 0, 4, 4, 1, 4, 4, 3, 4, 4, 4, 4, 4, 4, 4, 4, 4, 4, 4, 4, 4, 1, 4, 0, 4, 1, 4, 4, 4, 4, 1, 4, 4, 4, 1, 1, 4, 4, 4, 4, 4, 4, 4, 4, 4, 4, 0, 4, 4, 1, 4, 4, 4, 4, 1, 4, 4, 4, 4, 4, 4, 4, 1, 4, 1, 0, 4, 4, 4, 1, 4, 4, 4, 4, 4, 4, 4, 4, 1, 4, 4, 4, 4, 4, 4, 4, 4, 4, 4, 4, 4, 1, 4, 1, 4, 4, 1, 4, 4, 4, 4, 4, 4, 1, 4, 4, 0, 4, 3, 4, 3, 4, 4, 4, 4, 1, 4, 4, 4, 4, 4, 4, 4, 4, 4, 0, 3, 4, 4, 4, 4, 3, 4, 4, 4, 4, 4, 4, 4, 4, 4, 4, 4, 3, 4, 4, 4, 4, 0, 4, 4, 1, 1, 4, 4, 4, 4, 4, 4, 4, 4, 4, 1, 4, 4, 4, 4, 4, 4, 4, 1, 4, 4, 4, 4, 4, 0, 1, 4, 4, 1, 4, 4, 4, 4, 4, 4, 4, 4, 4, 4, 4, 1, 4, 4, 4, 4, 4, 4, 4, 4, 4, 4, 4, 1, 4, 4, 4, 4, 4, 1, 4, 4, 4, 4, 4, 4, 4, 4, 4, 4, 4, 4, 4, 4, 4, 4, 4, 4, 4, 1, 4, 4, 1, 4, 4, 4, 4, 4, 4, 4, 4, 4, 4, 4, 4, 4, 4, 4, 4, 4, 4, 4, 4, 4, 4, 4, 4, 4, 4, 4, 1, 4, 4, 4, 3, 4, 4, 3, 4, 4, 4, 4, 0, 4, 1, 4, 4, 4, 4, 4, 1, 4, 4, 4, 4, 4, 4, 4, 4, 4, 0, 4, 4, 4, 0, 4, 0, 4, 4, 4, 4, 4, 4, 4, 4, 4, 4, 4, 4, 4, 4, 4, 4, 0, 4, 4, 4, 4, 0, 4, 1, 4, 4, 4, 3, 4, 4, 4, 1, 4, 4, 4, 4, 4, 4, 4, 4, 4, 4, 4, 1, 4, 4, 4, 4, 4, 4, 4, 4, 4, 4, 4, 4, 4, 4, 4, 4, 4, 4, 4, 3, 4, 0, 4, 4, 4, 0, 4, 4, 4, 4, 4, 1, 4, 4, 4, 4, 4, 4, 4, 1, 4, 4, 4, 4, 4, 4, 1, 4, 4, 4, 4, 4, 4, 1, 4, 1, 4, 3, 4, 1, 4, 3, 4, 4, 4, 4, 4, 4, 4, 4, 4, 4, 1, 4, 0, 4, 4, 4, 4, 4, 4, 4, 4, 1, 4, 0, 3, 4, 4, 4, 4, 4, 4, 4, 4, 4, 4, 0, 4, 4, 4, 4, 4, 4, 0, 4, 0, 0, 4, 1, 4, 4, 4, 4, 4, 4, 0, 4, 4, 4, 4, 3, 4, 0, 4, 4, 4, 0, 4, 4, 4, 4, 3, 4, 4, 4, 4, 4, 4, 4, 4, 4, 1, 4, 4, 0, 4, 4, 4, 4, 4, 1, 1, 4, 4, 0, 4, 4, 1, 4, 4, 4, 4, 4, 4, 4, 4, 4, 4, 4, 4, 4, 4, 4, 3, 4, 4, 4, 1, 4, 4, 4, 4, 4, 4, 4, 4, 4, 4, 4, 4, 4, 0, 4, 4, 0, 4, 4, 4, 4, 4, 4, 4, 4, 1, 4, 4, 4, 4, 4, 4, 4, 4, 4, 4, 4, 4, 4, 4, 4, 4, 0, 4, 4, 4, 4, 4, 4, 4, 3, 1, 4, 4, 4, 4, 4, 4, 1, 4, 4, 4, 4, 4, 4, 4, 4, 4, 4, 4, 4, 4, 4, 4, 4, 4, 4, 0, 1, 1, 1, 4, 0, 4, 4, 4, 1, 3, 4, 4, 4, 4, 3, 4, 4, 4, 4, 4, 0, 0, 1, 4, 0, 4, 4, 4, 4, 4, 1, 4, 1, 4, 4, 4, 1, 3, 4, 4, 4, 4, 4, 0, 4, 4, 4, 4, 4, 4, 4, 4, 1, 4, 4, 4, 4, 4, 4, 4, 4, 4, 4, 4, 4, 4, 4, 0, 1, 4, 4, 4, 4, 4, 4, 4, 4, 4, 4, 4, 4, 4, 4, 4, 4, 1, 1, 4, 4, 0, 4, 4, 4, 4, 4, 4, 4, 4, 4, 4, 4, 4, 4, 4, 4, 3, 4, 4, 4, 4, 4, 4, 4, 4, 4, 3, 4, 4, 4, 4, 4, 4, 4, 4, 4, 4, 4, 4, 4, 4, 4, 4, 4, 3, 0, 1, 4, 4, 4, 0, 0, 4, 4, 4, 4, 4, 4, 4, 4, 4, 1, 4, 4, 4, 4, 4, 4, 4, 4, 4, 4, 4, 4, 4, 1, 4, 1, 4, 4, 4, 4, 4, 4, 4, 1, 4, 4, 1, 0, 0, 4, 4, 4, 4, 4, 4, 1, 4, 0, 0, 4, 4, 4, 4, 4, 4, 4, 4, 1, 4, 4, 4, 1, 4, 4, 4, 1, 1, 0, 0, 4, 4, 4, 1, 4, 0, 4, 4, 4, 1, 1, 4, 0, 4, 0, 0, 0, 4, 4, 4, 4, 1, 4, 4, 4, 4, 4, 4, 4, 0, 4, 4, 4, 4, 3, 4, 1, 4, 4, 4, 4, 1, 4, 4, 4, 0, 4, 4, 4, 4, 1, 4, 4, 4, 4, 4, 4, 4, 0, 4, 4, 4, 4, 4, 4, 4, 4, 3, 4, 4, 4, 3, 4, 4, 4, 4, 1, 1, 4, 4, 4, 4, 4, 4, 3, 4, 0, 4, 4, 4, 4, 3, 4, 4, 4, 4, 4, 4, 4, 4, 0, 4, 4, 4, 4, 1, 4, 4, 4, 4, 4, 4, 4, 4, 4, 3, 1, 4, 4, 4, 4, 4, 4, 4, 4, 4, 4, 4, 4, 4, 4, 4, 4, 4, 4, 4, 4, 4, 4, 4, 4, 0, 0, 4, 4, 4, 4, 4, 4, 4, 4, 4, 4, 4, 4, 4, 4, 4, 4, 4, 4, 4, 0, 4, 3, 4, 4, 0, 4, 4, 4, 4, 4, 4, 4, 4, 4, 4, 4, 4, 1, 4, 4, 4, 4, 0, 4, 4, 4, 4, 4, 4, 4, 4, 4, 4, 4, 4, 0, 4, 0, 0, 4, 4, 4, 4, 4, 4, 1, 4, 4, 1, 1, 1, 4, 4, 4, 4, 4, 4, 4, 4, 3, 1, 4, 4, 4, 4, 1, 4, 4, 4, 4, 4, 4, 1, 0, 4, 1, 4, 4, 0, 4, 4, 4, 1, 4, 4, 4, 4, 4, 4, 4, 4, 4, 4, 4, 4, 4, 4, 4, 4, 4, 4, 4, 4, 4, 4, 4, 4, 4, 1, 4, 4, 1, 4, 4, 4, 4, 4, 4, 4, 4, 4, 0, 0, 1, 4, 1, 4, 4, 1, 0, 4, 4, 4, 4, 1, 4, 1, 4, 4, 0, 4, 4, 4, 1, 4, 1, 4, 3, 1, 4, 4, 4, 4, 1, 1, 4, 3, 1, 1, 4, 4, 1, 4, 1, 4, 1, 4, 4, 4, 4, 4, 4, 4, 4, 4, 4, 4, 4, 4, 4, 4, 4, 4, 4, 0, 4, 4, 4, 4, 4, 4, 4, 1, 4, 1, 4, 3, 4, 1, 4, 4, 4, 1, 1, 4, 4, 4, 4, 4, 4, 4, 4, 4, 4, 4, 1, 4, 0, 4, 4, 4, 4, 4, 4, 4, 4, 4, 4, 4, 4, 4, 4, 4, 4, 4, 4, 4, 4, 4, 4, 4, 4, 1, 1, 4, 4, 4, 4, 4, 4, 4, 4, 4, 4, 4, 4, 4, 4, 4, 4, 0, 1, 4, 3, 4, 4, 4, 4, 1, 4, 0, 4, 4, 4, 4, 4, 0, 0, 1, 4, 4, 4, 4, 4, 4, 4, 4, 4, 1, 4, 0, 3, 4, 4, 4, 1, 4, 1, 4, 4, 4, 1, 4, 4, 4, 4, 4, 4, 1, 4, 4, 0, 4, 4, 4, 4, 1, 4, 4, 1, 4, 4, 4, 4, 4, 4, 1, 4, 4, 4, 4, 4, 1, 1, 4, 4, 4, 4, 4, 4, 4, 4, 4, 4, 4, 0, 4, 4, 4, 4, 4, 4, 4, 4, 1, 4, 4, 4, 4, 0, 4, 1, 4, 3, 4, 4, 4, 1, 4, 4, 4, 4, 4, 4, 4, 4, 0, 4, 4, 3, 4, 4, 4, 4, 3, 4, 4, 4, 4, 4, 4, 4, 1, 4, 4, 4, 4, 4, 4, 4, 4, 4, 4, 4, 4, 1, 4, 4, 4, 4, 4, 4, 4, 4, 4, 4, 4, 4, 4, 4, 4, 4, 4, 4, 1, 4, 4, 4, 4, 4, 4, 4, 4, 4, 4, 3, 4, 4, 3, 4, 4, 4, 4, 4, 4, 4, 3, 4, 4, 4, 1, 4, 4, 4, 4, 1, 4, 4, 4, 4, 4, 4, 4, 4, 4, 0, 0, 4, 4, 4, 4, 4, 4, 4, 4, 4, 4, 1, 4, 4, 4, 4, 4, 4, 4, 4, 4, 0, 1, 1, 4, 4, 4, 1, 4, 4, 4, 4, 4, 4, 1, 4, 0, 4, 4, 4, 4, 4, 4, 4, 4, 1, 4, 1, 4, 4, 4, 4, 4, 4, 1, 0, 4, 4, 0, 4, 4, 4, 4, 4, 0, 1, 4, 4, 1, 4, 4, 4, 4, 1, 4, 1, 4, 4, 4, 4, 4, 0, 4, 4, 4, 4, 4, 0, 4, 0, 4, 4, 4, 4, 4, 4, 4, 4, 1, 4, 4, 4, 4, 4, 1, 4, 4, 4, 4, 1, 3, 4, 4, 1, 1, 4, 1, 4, 4, 0, 0, 4, 4, 0, 4, 4, 4, 4, 1, 1, 4, 4, 4, 4, 4, 4, 4, 1, 4, 4, 4, 4, 1, 4, 4, 4, 4, 4, 1, 4, 4, 4, 4, 1, 4, 4, 4, 4, 4, 4, 4, 4, 4, 4, 4, 4, 4, 4, 4, 4, 4, 4, 4, 4, 4, 4, 4, 4, 0, 4, 1, 0, 4, 4, 4, 4, 1, 4, 4, 4, 4, 4, 4, 3, 4, 4, 4, 4, 4, 4, 4, 4, 4, 4, 4, 4, 4, 1, 4, 4, 1, 4, 4, 4, 4, 4, 4, 4, 1, 4, 4, 4, 1, 4, 4, 4, 4, 4, 4, 4, 4, 4, 1, 4, 4, 4, 4, 0, 4, 4, 4, 4, 4, 4, 4, 4, 4, 4, 1, 4, 4, 1, 4, 4, 4, 4, 4, 4, 1, 4, 4, 1, 4, 4, 4, 4, 4, 4, 4, 4, 4, 4, 4, 1, 4, 4, 4, 1, 4, 1, 4, 0, 4, 4, 4, 4, 4, 1, 4, 1, 1, 4, 4, 4, 4, 4, 4, 4, 4, 4, 3, 4, 4, 4, 4, 1, 4, 4, 0, 4, 1, 4, 4, 1, 4, 4, 4, 4, 4, 1, 4, 0, 4, 4, 4, 4, 0, 4, 4, 4, 4, 4, 0, 4, 0, 4, 4, 1, 1, 0, 4, 4, 1, 4, 4, 4, 1, 4, 4, 4, 4, 4, 4, 4, 4, 4, 1, 3, 4, 4, 4, 4, 4, 4, 4, 4, 4, 4, 1, 4, 1, 4, 4, 4, 4, 4, 1, 4, 4, 4, 4, 4, 4, 4, 1, 1, 4, 4, 1, 4, 4, 1, 4, 4, 3, 4, 4, 4, 1, 4, 4, 4, 4, 4, 4, 4, 4, 3, 4, 4, 4, 4, 4, 4, 1, 4, 0, 4, 4, 4, 1, 4, 4, 4, 4, 4, 4, 4, 4, 4, 4, 4, 4, 4, 4, 4, 4, 4, 4, 4, 4, 4, 4, 4, 4, 4, 4, 4, 4, 4, 4, 4, 4, 4, 4, 4, 0, 4, 1, 4, 4, 4, 4, 4, 4, 4, 4, 0, 4, 1, 4, 4, 3, 4, 4, 4, 0, 4, 4, 4, 4, 4, 4, 1, 4, 4, 4, 4, 4, 4, 1, 4, 4, 4, 4, 4, 4, 4, 1, 4, 4, 4, 0, 4, 4, 4, 4, 0, 4, 4, 4, 4, 4, 4, 4, 4, 4, 1, 1, 4, 1, 4, 4, 4, 1, 4, 4, 4, 4, 4, 4, 4, 4, 1, 4, 4, 4, 4, 1, 4, 4, 1, 4, 4, 4, 0, 4, 1, 4, 4, 1, 0, 1, 4, 4, 4, 4, 4, 4, 4, 3, 4, 4, 4, 4, 0, 1, 4, 4, 4, 4, 4, 4, 0, 4, 4, 4, 3, 4, 4, 4, 4, 4, 4, 0, 4, 4, 4, 4, 4, 4, 4, 4, 4, 4, 4, 4, 4, 4, 4, 1, 1, 1, 4, 4, 4, 4, 4, 4, 4, 4, 4, 4, 4, 4, 4, 4, 4, 4, 4, 1, 1, 3, 4, 4, 4, 4, 4, 4, 4, 4, 4, 0, 0, 4, 4, 4, 4, 4, 4, 4, 4, 4, 4, 4, 4, 4, 0, 4, 4, 4, 4, 1, 4, 4, 4, 4, 4, 1, 4, 1, 4, 4, 4, 1, 1, 4, 4, 4, 4, 4, 1, 4, 1, 3, 1, 4, 4, 0, 0, 4, 4, 1, 4, 3, 4, 4, 1, 4, 1, 0, 0, 0, 4, 4, 4, 4, 4, 0, 4, 4, 4, 1, 0, 4, 4, 4, 4, 4, 1, 4, 0, 4, 4, 1, 4, 4, 4, 4, 1, 4, 4, 1, 0, 1, 4, 4, 1, 4, 1, 0, 4, 4, 4, 4, 4, 4, 4, 4, 4, 1, 4, 1, 4, 4, 1, 4, 4, 4, 4, 4, 4, 4, 0, 1, 1, 4, 4, 4, 4, 4, 4, 4, 4, 3, 4, 1, 4, 4, 4, 4, 4, 4, 4, 4, 4, 4, 4, 4, 4, 4, 3, 4, 4, 4, 4, 4, 4, 4, 4, 4, 4, 4, 4, 4, 3, 1, 4, 4, 1, 4, 4, 4, 4, 4, 4, 1, 4, 4, 4, 4, 4, 4, 4, 4, 4, 4, 4, 1, 4, 4, 4, 4, 4, 0, 4, 4, 4, 0, 4, 4, 0, 4, 4, 4, 4, 4, 4, 4, 4, 4, 4, 0, 4, 4, 4, 4, 3, 3, 4, 4, 4, 4, 4, 4, 0, 4, 4, 4, 4, 4, 4, 4, 4, 4, 0, 4, 4, 4, 4, 4, 4, 4, 4, 4, 0, 4, 4, 4, 4, 4, 4, 4, 4, 0, 3, 0, 4, 4, 4, 4, 4, 4, 3, 4, 4, 4, 0, 4, 4, 0, 4, 4, 4, 4, 4, 4, 4, 4, 4, 4, 4, 4, 4, 0, 4, 4, 4, 4, 4, 4, 4, 4, 4, 0, 1, 4, 4, 4, 4, 4, 4, 4, 1, 4, 4, 4, 4, 4, 4, 4, 4, 4, 4, 4, 4, 4, 4, 4, 1, 0, 1, 0, 4, 4, 0, 4, 4, 4, 4, 1, 1, 1, 4, 0, 4, 0, 4, 4, 4, 4, 4, 0, 4, 4, 1, 4, 0, 1, 4, 4, 4, 1, 4, 4, 4, 4, 4, 4, 4, 1, 4, 4, 1, 4, 4, 4, 4, 4, 3, 3, 4, 0, 4, 4, 4, 4, 4, 4, 4, 1, 4, 4, 4, 4, 4, 1, 0, 0, 3, 0, 4, 4, 0, 3, 1, 1, 4, 4, 0, 4, 4, 4, 0, 4, 4, 4, 4, 4]\n"
          ]
        }
      ]
    },
    {
      "cell_type": "code",
      "source": [
        "from sklearn.neural_network import MLPClassifier\n",
        "from sklearn.datasets import make_classification\n",
        "from sklearn.model_selection import train_test_split\n",
        "\n",
        "mlp = MLPClassifier(random_state=seed, activation=\"relu\", solver=\"adam\", max_iter=300, early_stopping=True).fit(train_data_1, train_labels_1)"
      ],
      "metadata": {
        "id": "z4sXKD_csHpf"
      },
      "id": "z4sXKD_csHpf",
      "execution_count": null,
      "outputs": []
    },
    {
      "cell_type": "code",
      "source": [
        "predicted_labels_mlp = mlp.predict(test_data_1)"
      ],
      "metadata": {
        "id": "6HP554odkkbC"
      },
      "id": "6HP554odkkbC",
      "execution_count": null,
      "outputs": []
    },
    {
      "cell_type": "code",
      "source": [
        "predicted_labels_mlp_test_true = mlp.predict(test_data_true)"
      ],
      "metadata": {
        "id": "mHOOlG9Okgzh"
      },
      "id": "mHOOlG9Okgzh",
      "execution_count": null,
      "outputs": []
    },
    {
      "cell_type": "code",
      "source": [
        "print(predicted_labels_mlp_test_true[:1000])"
      ],
      "metadata": {
        "colab": {
          "base_uri": "https://localhost:8080/"
        },
        "id": "sO-BKX0Rsy6C",
        "outputId": "74ee4e0d-6671-4a6b-d75e-1d755177b532"
      },
      "id": "sO-BKX0Rsy6C",
      "execution_count": null,
      "outputs": [
        {
          "output_type": "stream",
          "name": "stdout",
          "text": [
            "[4 4 4 1 4 4 4 4 3 4 4 4 4 4 1 4 4 4 4 1 4 4 4 1 4 4 4 4 4 4 4 4 4 4 4 4 1\n",
            " 1 4 1 4 4 4 4 4 4 1 4 4 1 4 1 4 1 4 4 4 4 4 4 1 1 4 1 4 1 4 1 4 4 4 4 4 4\n",
            " 1 4 4 1 4 3 4 4 4 4 1 4 4 4 4 4 4 4 4 4 4 4 4 4 4 4 4 1 1 4 3 1 4 4 4 1 1\n",
            " 4 4 1 4 1 4 4 4 1 4 1 1 1 4 1 4 4 4 1 1 4 4 1 4 4 1 4 4 4 1 4 4 4 4 4 1 4\n",
            " 4 4 4 4 4 4 4 1 4 1 4 4 1 4 4 4 4 4 4 1 4 4 4 1 4 4 1 4 4 1 4 4 4 3 4 3 1\n",
            " 1 1 4 4 4 1 1 4 4 1 4 4 4 1 4 4 4 4 1 4 4 1 1 4 4 1 4 1 0 1 1 4 4 1 1 4 1\n",
            " 4 4 1 4 4 4 4 4 4 4 4 4 4 4 4 1 4 4 4 1 1 4 4 0 4 4 4 4 1 1 4 4 4 1 4 4 4\n",
            " 4 1 4 4 4 1 4 4 4 4 4 4 4 4 4 4 4 1 4 4 4 4 4 4 4 4 4 4 4 1 4 4 4 1 4 3 4\n",
            " 3 3 4 4 4 4 4 4 1 4 1 4 4 4 4 4 1 4 4 4 4 1 1 1 4 4 4 4 4 1 1 4 4 4 4 4 1\n",
            " 4 4 4 4 4 4 4 4 1 4 4 4 4 4 1 4 1 1 4 4 1 4 4 4 4 4 3 4 4 4 4 3 4 4 4 4 3\n",
            " 1 4 4 1 3 4 1 4 4 4 1 4 4 4 4 4 4 4 1 4 0 4 1 4 4 4 4 4 1 4 1 4 4 4 4 1 1\n",
            " 1 4 4 1 1 4 1 4 4 1 4 1 4 1 4 4 4 4 4 4 4 1 4 4 4 4 4 4 4 4 4 4 4 4 1 4 1\n",
            " 4 1 4 4 4 4 1 4 1 4 4 4 1 4 4 4 4 1 3 4 1 4 4 1 4 1 4 3 3 3 4 3 4 4 4 4 4\n",
            " 3 4 3 4 4 4 4 3 1 4 4 4 4 1 4 4 4 4 4 4 4 4 4 4 4 4 1 1 4 4 4 1 4 4 1 1 0\n",
            " 1 4 1 1 1 4 4 1 4 4 4 4 4 4 4 4 4 3 3 4 4 1 4 4 4 1 4 4 4 4 1 4 4 4 4 4 4\n",
            " 4 4 4 4 4 1 1 4 4 4 1 4 1 4 4 4 4 4 4 1 4 1 1 4 4 1 4 4 4 4 3 3 4 4 4 4 4\n",
            " 4 4 4 4 4 4 4 1 4 4 3 1 4 3 3 1 4 4 1 4 1 4 4 1 4 4 4 4 4 4 1 4 4 4 1 1 1\n",
            " 1 1 4 0 1 4 4 4 4 4 4 4 3 4 1 4 4 4 4 1 4 4 4 4 4 4 4 1 1 1 4 3 4 4 4 4 4\n",
            " 1 1 4 4 4 1 4 4 1 4 3 4 4 4 4 4 4 1 4 4 4 1 1 4 4 4 4 4 1 4 4 4 4 1 4 4 1\n",
            " 3 4 4 4 1 4 4 4 4 4 4 4 1 4 1 0 4 4 4 1 1 4 4 4 0 4 1 4 1 4 4 4 4 4 1 4 4\n",
            " 4 1 4 4 1 4 1 4 1 1 3 4 4 4 4 4 1 4 4 1 4 4 4 3 1 4 4 4 1 1 4 4 4 4 4 4 4\n",
            " 4 1 3 4 4 1 4 3 4 4 1 4 4 4 4 4 4 4 4 4 4 4 4 4 3 1 4 1 1 4 4 4 4 4 4 4 4\n",
            " 4 1 4 4 4 4 1 4 4 1 4 1 4 1 4 0 1 4 3 1 4 4 1 1 4 4 4 4 3 4 4 1 4 4 4 3 4\n",
            " 4 4 4 4 4 4 1 4 4 4 4 4 4 3 4 4 4 4 1 4 4 4 4 4 4 4 4 4 4 4 4 3 0 4 4 1 4\n",
            " 4 4 1 4 4 4 1 4 1 4 4 4 4 4 1 4 4 4 4 4 4 4 4 1 4 4 1 4 4 4 3 4 4 3 4 4 4\n",
            " 1 4 4 4 4 4 1 4 4 1 1 4 4 4 4 4 4 4 1 4 4 4 4 0 4 1 4 4 1 4 4 4 4 4 4 1 4\n",
            " 4 4 4 4 4 1 4 1 4 4 4 4 1 4 4 4 3 4 4 4 1 4 1 4 4 1 4 4 4 3 1 1 1 4 4 4 4\n",
            " 4]\n"
          ]
        }
      ]
    },
    {
      "cell_type": "code",
      "source": [
        "print(list(predicted_labels_mlp_test_true))"
      ],
      "metadata": {
        "colab": {
          "base_uri": "https://localhost:8080/"
        },
        "id": "drI5SlAIs2du",
        "outputId": "9d25dbfd-37e5-456a-aa52-e22859984ea2"
      },
      "id": "drI5SlAIs2du",
      "execution_count": null,
      "outputs": [
        {
          "output_type": "stream",
          "name": "stdout",
          "text": [
            "[4, 4, 4, 1, 4, 4, 4, 4, 3, 4, 4, 4, 4, 4, 1, 4, 4, 4, 4, 1, 4, 4, 4, 1, 4, 4, 4, 4, 4, 4, 4, 4, 4, 4, 4, 4, 1, 1, 4, 1, 4, 4, 4, 4, 4, 4, 1, 4, 4, 1, 4, 1, 4, 1, 4, 4, 4, 4, 4, 4, 1, 1, 4, 1, 4, 1, 4, 1, 4, 4, 4, 4, 4, 4, 1, 4, 4, 1, 4, 3, 4, 4, 4, 4, 1, 4, 4, 4, 4, 4, 4, 4, 4, 4, 4, 4, 4, 4, 4, 4, 4, 1, 1, 4, 3, 1, 4, 4, 4, 1, 1, 4, 4, 1, 4, 1, 4, 4, 4, 1, 4, 1, 1, 1, 4, 1, 4, 4, 4, 1, 1, 4, 4, 1, 4, 4, 1, 4, 4, 4, 1, 4, 4, 4, 4, 4, 1, 4, 4, 4, 4, 4, 4, 4, 4, 1, 4, 1, 4, 4, 1, 4, 4, 4, 4, 4, 4, 1, 4, 4, 4, 1, 4, 4, 1, 4, 4, 1, 4, 4, 4, 3, 4, 3, 1, 1, 1, 4, 4, 4, 1, 1, 4, 4, 1, 4, 4, 4, 1, 4, 4, 4, 4, 1, 4, 4, 1, 1, 4, 4, 1, 4, 1, 0, 1, 1, 4, 4, 1, 1, 4, 1, 4, 4, 1, 4, 4, 4, 4, 4, 4, 4, 4, 4, 4, 4, 4, 1, 4, 4, 4, 1, 1, 4, 4, 0, 4, 4, 4, 4, 1, 1, 4, 4, 4, 1, 4, 4, 4, 4, 1, 4, 4, 4, 1, 4, 4, 4, 4, 4, 4, 4, 4, 4, 4, 4, 1, 4, 4, 4, 4, 4, 4, 4, 4, 4, 4, 4, 1, 4, 4, 4, 1, 4, 3, 4, 3, 3, 4, 4, 4, 4, 4, 4, 1, 4, 1, 4, 4, 4, 4, 4, 1, 4, 4, 4, 4, 1, 1, 1, 4, 4, 4, 4, 4, 1, 1, 4, 4, 4, 4, 4, 1, 4, 4, 4, 4, 4, 4, 4, 4, 1, 4, 4, 4, 4, 4, 1, 4, 1, 1, 4, 4, 1, 4, 4, 4, 4, 4, 3, 4, 4, 4, 4, 3, 4, 4, 4, 4, 3, 1, 4, 4, 1, 3, 4, 1, 4, 4, 4, 1, 4, 4, 4, 4, 4, 4, 4, 1, 4, 0, 4, 1, 4, 4, 4, 4, 4, 1, 4, 1, 4, 4, 4, 4, 1, 1, 1, 4, 4, 1, 1, 4, 1, 4, 4, 1, 4, 1, 4, 1, 4, 4, 4, 4, 4, 4, 4, 1, 4, 4, 4, 4, 4, 4, 4, 4, 4, 4, 4, 4, 1, 4, 1, 4, 1, 4, 4, 4, 4, 1, 4, 1, 4, 4, 4, 1, 4, 4, 4, 4, 1, 3, 4, 1, 4, 4, 1, 4, 1, 4, 3, 3, 3, 4, 3, 4, 4, 4, 4, 4, 3, 4, 3, 4, 4, 4, 4, 3, 1, 4, 4, 4, 4, 1, 4, 4, 4, 4, 4, 4, 4, 4, 4, 4, 4, 4, 1, 1, 4, 4, 4, 1, 4, 4, 1, 1, 0, 1, 4, 1, 1, 1, 4, 4, 1, 4, 4, 4, 4, 4, 4, 4, 4, 4, 3, 3, 4, 4, 1, 4, 4, 4, 1, 4, 4, 4, 4, 1, 4, 4, 4, 4, 4, 4, 4, 4, 4, 4, 4, 1, 1, 4, 4, 4, 1, 4, 1, 4, 4, 4, 4, 4, 4, 1, 4, 1, 1, 4, 4, 1, 4, 4, 4, 4, 3, 3, 4, 4, 4, 4, 4, 4, 4, 4, 4, 4, 4, 4, 1, 4, 4, 3, 1, 4, 3, 3, 1, 4, 4, 1, 4, 1, 4, 4, 1, 4, 4, 4, 4, 4, 4, 1, 4, 4, 4, 1, 1, 1, 1, 1, 4, 0, 1, 4, 4, 4, 4, 4, 4, 4, 3, 4, 1, 4, 4, 4, 4, 1, 4, 4, 4, 4, 4, 4, 4, 1, 1, 1, 4, 3, 4, 4, 4, 4, 4, 1, 1, 4, 4, 4, 1, 4, 4, 1, 4, 3, 4, 4, 4, 4, 4, 4, 1, 4, 4, 4, 1, 1, 4, 4, 4, 4, 4, 1, 4, 4, 4, 4, 1, 4, 4, 1, 3, 4, 4, 4, 1, 4, 4, 4, 4, 4, 4, 4, 1, 4, 1, 0, 4, 4, 4, 1, 1, 4, 4, 4, 0, 4, 1, 4, 1, 4, 4, 4, 4, 4, 1, 4, 4, 4, 1, 4, 4, 1, 4, 1, 4, 1, 1, 3, 4, 4, 4, 4, 4, 1, 4, 4, 1, 4, 4, 4, 3, 1, 4, 4, 4, 1, 1, 4, 4, 4, 4, 4, 4, 4, 4, 1, 3, 4, 4, 1, 4, 3, 4, 4, 1, 4, 4, 4, 4, 4, 4, 4, 4, 4, 4, 4, 4, 4, 3, 1, 4, 1, 1, 4, 4, 4, 4, 4, 4, 4, 4, 4, 1, 4, 4, 4, 4, 1, 4, 4, 1, 4, 1, 4, 1, 4, 0, 1, 4, 3, 1, 4, 4, 1, 1, 4, 4, 4, 4, 3, 4, 4, 1, 4, 4, 4, 3, 4, 4, 4, 4, 4, 4, 4, 1, 4, 4, 4, 4, 4, 4, 3, 4, 4, 4, 4, 1, 4, 4, 4, 4, 4, 4, 4, 4, 4, 4, 4, 4, 3, 0, 4, 4, 1, 4, 4, 4, 1, 4, 4, 4, 1, 4, 1, 4, 4, 4, 4, 4, 1, 4, 4, 4, 4, 4, 4, 4, 4, 1, 4, 4, 1, 4, 4, 4, 3, 4, 4, 3, 4, 4, 4, 1, 4, 4, 4, 4, 4, 1, 4, 4, 1, 1, 4, 4, 4, 4, 4, 4, 4, 1, 4, 4, 4, 4, 0, 4, 1, 4, 4, 1, 4, 4, 4, 4, 4, 4, 1, 4, 4, 4, 4, 4, 4, 1, 4, 1, 4, 4, 4, 4, 1, 4, 4, 4, 3, 4, 4, 4, 1, 4, 1, 4, 4, 1, 4, 4, 4, 3, 1, 1, 1, 4, 4, 4, 4, 4, 4, 4, 4, 3, 1, 4, 4, 4, 4, 0, 4, 4, 4, 4, 3, 4, 4, 1, 4, 4, 4, 1, 0, 1, 1, 4, 1, 4, 4, 4, 1, 4, 4, 4, 4, 4, 4, 4, 4, 4, 4, 1, 4, 4, 4, 1, 4, 4, 1, 4, 1, 4, 3, 4, 1, 4, 3, 1, 4, 4, 4, 4, 4, 4, 1, 4, 4, 1, 4, 4, 4, 4, 4, 4, 4, 4, 4, 4, 1, 1, 4, 4, 4, 4, 4, 4, 1, 4, 4, 4, 4, 4, 4, 4, 4, 4, 4, 3, 1, 1, 1, 3, 1, 4, 1, 4, 4, 4, 4, 4, 4, 1, 4, 4, 4, 4, 3, 4, 4, 4, 4, 4, 1, 4, 4, 4, 4, 3, 4, 4, 4, 1, 4, 4, 4, 4, 4, 1, 4, 4, 4, 4, 4, 4, 4, 4, 1, 1, 4, 4, 4, 1, 4, 4, 4, 4, 4, 4, 4, 4, 4, 4, 4, 3, 3, 4, 4, 4, 4, 3, 1, 1, 4, 1, 4, 1, 4, 1, 4, 4, 3, 4, 4, 4, 4, 4, 4, 4, 4, 4, 1, 4, 1, 4, 4, 1, 4, 4, 4, 1, 4, 4, 4, 4, 4, 4, 4, 4, 4, 4, 4, 4, 4, 4, 4, 4, 4, 4, 3, 4, 4, 4, 4, 4, 3, 4, 4, 4, 1, 4, 1, 4, 1, 1, 4, 4, 4, 4, 4, 1, 4, 4, 4, 4, 4, 4, 4, 4, 4, 1, 4, 4, 4, 1, 1, 4, 0, 4, 4, 4, 4, 4, 4, 4, 4, 4, 3, 4, 4, 4, 4, 4, 1, 1, 1, 4, 1, 4, 4, 4, 4, 4, 1, 4, 1, 4, 4, 4, 1, 4, 4, 3, 4, 4, 4, 4, 4, 4, 4, 4, 4, 4, 3, 4, 1, 4, 4, 3, 4, 4, 4, 4, 4, 4, 4, 4, 4, 1, 1, 4, 4, 4, 4, 4, 4, 4, 4, 4, 4, 4, 4, 4, 4, 4, 4, 4, 4, 1, 4, 4, 1, 4, 4, 4, 4, 3, 4, 4, 4, 4, 1, 4, 4, 4, 4, 4, 4, 1, 4, 4, 4, 4, 4, 4, 4, 4, 4, 3, 4, 4, 3, 4, 4, 4, 4, 4, 4, 4, 3, 1, 4, 4, 4, 1, 4, 3, 4, 3, 4, 4, 4, 4, 1, 4, 4, 4, 4, 4, 4, 4, 4, 4, 1, 4, 4, 4, 1, 4, 1, 4, 4, 4, 4, 4, 4, 4, 1, 3, 1, 4, 4, 4, 4, 4, 4, 4, 1, 1, 4, 1, 1, 1, 4, 4, 4, 4, 4, 4, 4, 1, 1, 1, 4, 4, 4, 1, 1, 4, 4, 1, 1, 4, 4, 4, 1, 4, 4, 4, 1, 4, 4, 1, 4, 4, 4, 4, 4, 4, 4, 4, 4, 1, 1, 4, 1, 1, 1, 4, 4, 4, 4, 1, 4, 4, 4, 4, 4, 4, 4, 4, 4, 0, 4, 4, 4, 1, 3, 4, 1, 4, 4, 4, 4, 3, 3, 1, 4, 1, 4, 4, 4, 1, 1, 4, 4, 4, 1, 4, 4, 4, 4, 4, 4, 4, 4, 3, 4, 4, 1, 3, 4, 4, 4, 3, 4, 4, 4, 4, 4, 1, 4, 4, 4, 1, 4, 1, 0, 4, 1, 4, 4, 4, 4, 3, 4, 4, 4, 4, 4, 4, 4, 4, 1, 3, 4, 4, 4, 1, 4, 4, 4, 4, 4, 4, 4, 4, 4, 4, 1, 1, 4, 4, 4, 4, 4, 4, 4, 4, 4, 4, 4, 1, 4, 4, 4, 4, 4, 1, 4, 4, 4, 4, 4, 1, 1, 4, 4, 4, 4, 4, 4, 3, 1, 4, 4, 4, 4, 1, 4, 4, 1, 4, 4, 4, 4, 4, 3, 4, 4, 4, 4, 3, 4, 4, 4, 4, 4, 4, 4, 4, 4, 4, 1, 1, 4, 4, 4, 4, 4, 4, 4, 4, 4, 4, 4, 4, 4, 4, 4, 4, 1, 4, 4, 1, 4, 3, 4, 4, 4, 4, 1, 4, 4, 1, 1, 1, 4, 1, 4, 4, 4, 4, 4, 4, 3, 1, 1, 1, 4, 4, 1, 4, 4, 1, 4, 4, 4, 1, 1, 4, 4, 1, 4, 3, 4, 4, 4, 1, 4, 4, 1, 4, 4, 4, 4, 4, 4, 1, 4, 1, 4, 4, 3, 4, 1, 4, 4, 4, 4, 4, 4, 4, 4, 1, 4, 4, 1, 4, 4, 4, 4, 4, 4, 4, 1, 4, 0, 0, 1, 4, 1, 4, 4, 1, 4, 4, 4, 4, 4, 1, 1, 1, 4, 4, 1, 4, 4, 4, 1, 4, 4, 1, 3, 1, 4, 1, 1, 4, 1, 1, 4, 3, 1, 1, 1, 4, 1, 4, 4, 4, 1, 4, 4, 4, 4, 4, 4, 4, 4, 4, 4, 4, 1, 4, 4, 4, 4, 4, 4, 4, 3, 4, 4, 4, 4, 4, 4, 1, 4, 1, 4, 3, 1, 1, 4, 4, 4, 1, 1, 4, 4, 1, 4, 4, 4, 4, 1, 4, 1, 4, 4, 4, 1, 1, 4, 4, 4, 4, 4, 1, 4, 4, 1, 1, 4, 4, 4, 4, 4, 4, 4, 4, 4, 4, 4, 4, 4, 1, 4, 4, 4, 4, 4, 0, 4, 4, 4, 4, 4, 1, 4, 4, 4, 4, 4, 4, 1, 4, 4, 4, 1, 4, 4, 1, 4, 4, 4, 4, 4, 4, 4, 3, 3, 1, 4, 4, 4, 4, 4, 4, 1, 4, 4, 1, 4, 1, 4, 1, 4, 4, 1, 4, 1, 4, 1, 3, 1, 4, 1, 4, 4, 4, 4, 1, 1, 4, 4, 4, 4, 4, 4, 3, 4, 4, 1, 4, 4, 4, 4, 4, 4, 1, 4, 4, 4, 4, 4, 1, 1, 4, 4, 4, 4, 3, 1, 1, 4, 4, 4, 4, 1, 4, 4, 4, 4, 4, 1, 4, 1, 4, 4, 4, 4, 4, 1, 3, 1, 4, 3, 4, 4, 4, 1, 4, 4, 4, 4, 4, 4, 4, 1, 1, 1, 4, 3, 4, 1, 4, 4, 1, 4, 4, 1, 4, 4, 4, 4, 1, 4, 3, 3, 4, 4, 4, 4, 4, 4, 4, 4, 4, 1, 4, 4, 4, 4, 4, 4, 4, 4, 4, 4, 4, 4, 4, 4, 4, 4, 4, 4, 1, 4, 4, 4, 4, 1, 4, 4, 4, 4, 1, 3, 4, 1, 3, 4, 4, 4, 4, 4, 4, 4, 3, 4, 4, 3, 1, 4, 4, 4, 3, 1, 4, 4, 4, 4, 4, 4, 4, 4, 4, 1, 4, 4, 4, 4, 4, 4, 4, 1, 4, 4, 1, 1, 4, 4, 4, 1, 4, 4, 4, 4, 4, 0, 1, 1, 1, 1, 4, 4, 4, 4, 4, 4, 4, 4, 1, 4, 1, 4, 4, 4, 4, 4, 4, 4, 4, 1, 4, 1, 1, 4, 4, 4, 4, 1, 1, 0, 3, 4, 1, 4, 4, 4, 4, 4, 1, 1, 4, 4, 1, 4, 4, 4, 4, 1, 4, 1, 4, 1, 1, 3, 4, 1, 4, 4, 4, 4, 4, 1, 1, 1, 4, 4, 4, 4, 1, 4, 4, 1, 1, 4, 0, 4, 3, 4, 3, 4, 4, 3, 3, 4, 4, 4, 4, 3, 1, 1, 1, 4, 4, 1, 4, 4, 4, 0, 4, 4, 3, 4, 1, 4, 1, 4, 1, 4, 4, 3, 4, 1, 4, 4, 4, 4, 4, 4, 4, 4, 4, 4, 1, 1, 4, 4, 4, 1, 4, 4, 1, 4, 4, 4, 4, 4, 4, 4, 4, 4, 4, 4, 4, 1, 4, 4, 4, 4, 4, 4, 1, 4, 1, 4, 1, 4, 4, 4, 4, 4, 1, 1, 4, 3, 4, 4, 4, 3, 1, 4, 4, 4, 4, 4, 4, 4, 4, 4, 4, 4, 4, 1, 4, 4, 1, 1, 4, 4, 4, 1, 4, 4, 1, 3, 4, 4, 1, 4, 4, 4, 4, 4, 4, 3, 1, 4, 1, 4, 4, 1, 4, 4, 4, 4, 4, 4, 4, 4, 4, 4, 4, 1, 1, 4, 4, 1, 4, 4, 4, 4, 4, 1, 1, 4, 4, 1, 4, 4, 4, 4, 4, 4, 4, 4, 4, 4, 4, 1, 4, 4, 4, 1, 4, 1, 4, 4, 4, 4, 4, 4, 4, 1, 4, 1, 4, 4, 4, 4, 4, 4, 1, 4, 4, 4, 3, 4, 4, 4, 4, 1, 4, 4, 1, 4, 1, 4, 4, 1, 4, 4, 4, 4, 4, 1, 1, 1, 4, 4, 4, 4, 4, 4, 4, 3, 4, 4, 1, 4, 4, 4, 4, 1, 4, 4, 1, 4, 1, 4, 4, 4, 4, 4, 4, 1, 4, 1, 4, 1, 4, 1, 1, 3, 4, 4, 1, 4, 1, 4, 4, 4, 4, 4, 1, 1, 4, 4, 4, 4, 4, 4, 1, 4, 4, 4, 3, 4, 4, 1, 1, 1, 4, 4, 1, 4, 3, 1, 4, 4, 4, 4, 4, 3, 4, 4, 4, 4, 4, 4, 1, 4, 4, 4, 4, 4, 4, 4, 4, 4, 1, 4, 0, 4, 1, 4, 1, 4, 4, 4, 4, 4, 4, 4, 4, 4, 4, 4, 4, 4, 4, 4, 4, 1, 4, 1, 4, 4, 4, 4, 4, 4, 1, 4, 4, 4, 4, 4, 4, 1, 1, 4, 1, 4, 1, 4, 4, 4, 4, 4, 4, 3, 4, 1, 4, 1, 4, 1, 3, 4, 4, 4, 3, 4, 4, 4, 4, 4, 4, 1, 4, 1, 1, 1, 4, 4, 1, 4, 4, 4, 4, 4, 4, 4, 1, 4, 4, 4, 1, 1, 4, 4, 4, 3, 4, 4, 4, 4, 4, 4, 4, 1, 3, 4, 1, 4, 1, 4, 4, 4, 1, 4, 4, 4, 4, 4, 4, 4, 4, 1, 4, 4, 4, 4, 1, 4, 4, 1, 4, 4, 3, 4, 3, 1, 4, 4, 1, 4, 4, 4, 4, 4, 4, 1, 1, 4, 3, 4, 4, 4, 4, 4, 1, 3, 4, 4, 4, 4, 4, 1, 1, 4, 4, 4, 4, 4, 4, 3, 4, 4, 1, 3, 4, 1, 4, 4, 1, 4, 3, 0, 4, 4, 4, 4, 4, 4, 1, 1, 1, 4, 1, 1, 4, 4, 4, 4, 4, 4, 4, 4, 4, 4, 4, 4, 4, 4, 1, 1, 0, 4, 4, 4, 4, 4, 1, 4, 4, 4, 0, 1, 4, 4, 4, 4, 4, 4, 4, 4, 4, 4, 4, 4, 4, 1, 1, 4, 4, 4, 4, 4, 4, 4, 4, 4, 1, 1, 4, 4, 4, 4, 1, 4, 4, 4, 4, 4, 4, 1, 4, 4, 3, 1, 4, 4, 4, 4, 4, 1, 1, 1, 3, 1, 4, 1, 4, 1, 1, 1, 1, 4, 4, 1, 4, 4, 0, 4, 4, 4, 1, 4, 1, 4, 4, 1, 1, 1, 3, 4, 4, 4, 1, 4, 4, 1, 4, 1, 1, 4, 1, 4, 1, 4, 1, 1, 4, 1, 4, 4, 1, 4, 4, 4, 1, 4, 4, 4, 1, 4, 1, 4, 4, 1, 4, 4, 4, 4, 4, 4, 4, 1, 1, 1, 1, 4, 4, 4, 4, 4, 4, 4, 3, 4, 1, 4, 4, 4, 3, 4, 3, 4, 4, 4, 4, 1, 4, 1, 1, 3, 4, 4, 4, 1, 4, 4, 4, 1, 4, 1, 1, 1, 0, 1, 4, 4, 4, 1, 4, 4, 4, 4, 1, 4, 1, 4, 4, 4, 4, 4, 4, 3, 4, 4, 4, 4, 1, 4, 4, 4, 4, 4, 1, 1, 4, 1, 4, 4, 4, 4, 4, 1, 4, 4, 4, 4, 4, 4, 4, 4, 1, 4, 4, 4, 4, 3, 3, 4, 4, 4, 4, 1, 4, 4, 3, 4, 4, 4, 4, 4, 4, 4, 4, 1, 4, 4, 4, 3, 1, 4, 4, 4, 1, 4, 4, 4, 4, 4, 3, 4, 4, 3, 3, 3, 1, 4, 4, 4, 4, 4, 3, 4, 4, 4, 4, 1, 4, 4, 4, 3, 1, 4, 4, 1, 4, 1, 4, 4, 4, 4, 4, 4, 1, 4, 3, 4, 4, 4, 4, 4, 4, 4, 3, 1, 1, 4, 4, 4, 4, 1, 4, 1, 4, 1, 4, 4, 4, 4, 4, 4, 4, 4, 4, 4, 4, 4, 4, 1, 1, 1, 4, 4, 4, 3, 4, 4, 4, 4, 1, 1, 1, 1, 4, 4, 4, 3, 1, 4, 4, 4, 4, 4, 4, 1, 4, 1, 1, 4, 1, 4, 1, 4, 4, 4, 4, 4, 4, 1, 1, 4, 4, 1, 4, 4, 4, 1, 4, 3, 3, 4, 1, 4, 4, 4, 4, 4, 4, 4, 1, 4, 4, 4, 4, 4, 1, 0, 4, 0, 4, 1, 4, 0, 4, 1, 1, 3, 4, 4, 4, 4, 4, 0, 1, 4, 4, 1, 4]\n"
          ]
        }
      ]
    },
    {
      "cell_type": "code",
      "source": [
        "final_label_types = [\"direct\", \"descriptive\", \"reporting\", \"offensive\", \"non-offensive\"]\n",
        "\n",
        "pred_labels = []\n",
        "for test_label in predicted_labels_mlp_test_true:\n",
        "  if test_label == 0:\n",
        "    pred_labels.append(\"direct\")\n",
        "  elif test_label == 1:\n",
        "    pred_labels.append(\"descriptive\")\n",
        "  elif test_label == 2:\n",
        "    pred_labels.append(\"reporting\")\n",
        "  elif test_label == 3:\n",
        "    pred_labels.append(\"offensive\")\n",
        "  elif test_label == 4:\n",
        "    pred_labels.append(\"non-offensive\")"
      ],
      "metadata": {
        "id": "Ns0KEmaX-M3U"
      },
      "id": "Ns0KEmaX-M3U",
      "execution_count": null,
      "outputs": []
    },
    {
      "cell_type": "code",
      "source": [
        "# Populam fisierul aferent predictiilor\n",
        "fout = open(\"submission.csv\", \"w\")\n",
        "fout.write(\"Id,Label\\n\")\n",
        "# fin = open(\"data/test.txt\", \"r\")\n",
        "# fin.readline()\n",
        "# index = 0\n",
        "# for test_img in fin:\n",
        "#     fout.write(test_img.rstrip() + \",\" + str(int(predicted_labels[index])) + \"\\n\")\n",
        "#     index += 1\n",
        "# fout.close()\n",
        "# fin.close()\n",
        "\n",
        "for i in range(len(pred_labels)):\n",
        "  fout.write(str(i) + ',' + pred_labels[i] + \"\\n\")\n",
        "\n",
        "fout.close()"
      ],
      "metadata": {
        "id": "RSLp_WUh-is7"
      },
      "id": "RSLp_WUh-is7",
      "execution_count": null,
      "outputs": []
    },
    {
      "cell_type": "code",
      "source": [
        "import seaborn as sns"
      ],
      "metadata": {
        "id": "JILreiU5tEyX"
      },
      "id": "JILreiU5tEyX",
      "execution_count": null,
      "outputs": []
    },
    {
      "cell_type": "code",
      "source": [
        "print(metrics.classification_report(train_labels_1, test_labels_1))"
      ],
      "metadata": {
        "id": "OINLJAuSWhln",
        "colab": {
          "base_uri": "https://localhost:8080/"
        },
        "outputId": "0df92c2c-d8f7-40ea-85ca-619818276e16"
      },
      "id": "OINLJAuSWhln",
      "execution_count": null,
      "outputs": [
        {
          "output_type": "stream",
          "name": "stdout",
          "text": [
            "              precision    recall  f1-score   support\n",
            "\n",
            "           0       0.94      0.69      0.80      7138\n",
            "           1       0.67      0.61      0.64      3575\n",
            "           2       0.73      0.32      0.44      3488\n",
            "           3       0.36      0.87      0.51      1968\n",
            "           4       0.41      0.71      0.52      1956\n",
            "\n",
            "    accuracy                           0.62     18125\n",
            "   macro avg       0.62      0.64      0.58     18125\n",
            "weighted avg       0.73      0.62      0.64     18125\n",
            "\n"
          ]
        }
      ]
    },
    {
      "cell_type": "code",
      "source": [
        "cm = metrics.confusion_matrix(test_labels_1, predicted_labels_1)\n",
        "print(cm)"
      ],
      "metadata": {
        "colab": {
          "base_uri": "https://localhost:8080/"
        },
        "id": "Yvfy4-FZs9FT",
        "outputId": "f1e08323-7d7e-4395-a178-38a4c7e4461e"
      },
      "id": "Yvfy4-FZs9FT",
      "execution_count": null,
      "outputs": [
        {
          "output_type": "stream",
          "name": "stdout",
          "text": [
            "[[4909  574  282  893  480]\n",
            " [  56 2196   40 1049  234]\n",
            " [ 180  311 1107  716 1174]\n",
            " [  30  108   24 1713   93]\n",
            " [  25  100   54  391 1386]]\n"
          ]
        }
      ]
    },
    {
      "cell_type": "code",
      "source": [
        "sns.heatmap(cm, annot=True)"
      ],
      "metadata": {
        "colab": {
          "base_uri": "https://localhost:8080/",
          "height": 282
        },
        "id": "JjD9oW41tAxr",
        "outputId": "00e2e0bf-146f-44ca-d897-6c5a4843abe3"
      },
      "id": "JjD9oW41tAxr",
      "execution_count": null,
      "outputs": [
        {
          "output_type": "execute_result",
          "data": {
            "text/plain": [
              "<Axes: >"
            ]
          },
          "metadata": {},
          "execution_count": 57
        },
        {
          "output_type": "display_data",
          "data": {
            "text/plain": [
              "<Figure size 432x288 with 2 Axes>"
            ],
            "image/png": "[encoded data removed]"
          },
          "metadata": {
            "needs_background": "light"
          }
        }
      ]
    }
  ],
  "metadata": {
    "kernelspec": {
      "display_name": "Python 3",
      "name": "python3"
    },
    "language_info": {
      "name": "python"
    },
    "colab": {
      "provenance": []
    },
    "gpuClass": "standard",
    "accelerator": "GPU"
  },
  "nbformat": 4,
  "nbformat_minor": 5
}